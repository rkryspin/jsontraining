{
 "cells": [
  {
   "cell_type": "markdown",
   "metadata": {},
   "source": [
    "### Schemas And Instance Validation"
   ]
  },
  {
   "cell_type": "markdown",
   "metadata": {},
   "source": [
    "#### Why Validate?"
   ]
  },
  {
   "cell_type": "markdown",
   "metadata": {},
   "source": [
    "> * a schema is a formal description of the structure of a dataset\n",
    "> * the dominant schema standard in JSON is https://json-schema.org\n",
    "> * we define schemas in order to validate documents \n",
    "> * schemas are critical in implementing data quality and governance processes "
   ]
  },
  {
   "cell_type": "code",
   "execution_count": null,
   "metadata": {},
   "outputs": [],
   "source": [
    "# document/object/instance\n",
    "{\n",
    "   \"username\": \"coding_ninja\",\n",
    "   \"email\": \"ninja@example.com\",\n",
    "   \"age\": 25\n",
    "}"
   ]
  },
  {
   "cell_type": "code",
   "execution_count": null,
   "metadata": {},
   "outputs": [],
   "source": [
    "# schema\n",
    "{\n",
    "    \"$schema\": \"https://json-schema.org/draft/2020-12/schema\",\n",
    "    \"type\": \"object\",\n",
    "    \"properties\": {\n",
    "        \"username\": { \"type\": \"string\" },\n",
    "        \"email\": { \"type\": \"string\", \"format\": \"email\" },\n",
    "        \"age\": { \"type\": \"integer\" }\n",
    "    },\n",
    "    \"required\": [\"username\", \"email\", \"age\"]\n",
    "}"
   ]
  },
  {
   "cell_type": "markdown",
   "metadata": {},
   "source": [
    "#### Schema Construction"
   ]
  },
  {
   "cell_type": "markdown",
   "metadata": {},
   "source": [
    "> * Let's interactively define a JSON schema: https://www.jsonschemavalidator.net/"
   ]
  },
  {
   "cell_type": "code",
   "execution_count": null,
   "metadata": {},
   "outputs": [],
   "source": [
    "{\n",
    "    \"productId\": 12345,\n",
    "    \"title\": \"Super Widget Pro\",\n",
    "    \"price\": {\n",
    "        \"amount\": 19.99,\n",
    "        \"currency\": \"USD\"\n",
    "    },\n",
    "    \"inStock\": true,\n",
    "    \"categories\": [\"electronics\", \"gadgets\"],\n",
    "    \"reviews\": [\n",
    "        { \"rating\": 4.5, \"comment\": \"Great product!\" },\n",
    "        { \"rating\": 3, \"comment\": \"It's okay.\" }\n",
    "    ]\n",
    "}"
   ]
  },
  {
   "cell_type": "markdown",
   "metadata": {},
   "source": [
    "#### More Schema Definitions "
   ]
  },
  {
   "cell_type": "code",
   "execution_count": null,
   "metadata": {},
   "outputs": [],
   "source": []
  },
  {
   "cell_type": "markdown",
   "metadata": {},
   "source": [
    "#### Subschemas And Remote References: $ref & $defs"
   ]
  },
  {
   "cell_type": "markdown",
   "metadata": {},
   "source": [
    "> * $ref enables schema modularization and reusability\n",
    "> * $defs is the conventional named section for holding definitions in a schema\n",
    "> * remote review definition: https://www.andybek.com/api/data/review-schema"
   ]
  },
  {
   "cell_type": "code",
   "execution_count": null,
   "metadata": {},
   "outputs": [],
   "source": []
  },
  {
   "cell_type": "markdown",
   "metadata": {},
   "source": [
    "#### Applicators And Advanced Techniques"
   ]
  },
  {
   "cell_type": "markdown",
   "metadata": {},
   "source": [
    "> * applicators allow us to apply subschemas to specific parts of the model\n",
    "> * they could be used to define highly specific and conditional validation conditions"
   ]
  },
  {
   "cell_type": "code",
   "execution_count": null,
   "metadata": {},
   "outputs": [],
   "source": []
  },
  {
   "cell_type": "code",
   "execution_count": null,
   "metadata": {},
   "outputs": [],
   "source": [
    "# Define a new property called purchaserContact that could either be an email address or a phone number."
   ]
  },
  {
   "cell_type": "code",
   "execution_count": null,
   "metadata": {},
   "outputs": [],
   "source": [
    "\"purchaserContact\": {\"type\": \"string\"}\n",
    "\n",
    "# validates:\n",
    "    # \"purchaserContact\": \"hey@andybek.com\"\n",
    "    # \"purchaserContact\": \"hello\""
   ]
  },
  {
   "cell_type": "code",
   "execution_count": null,
   "metadata": {},
   "outputs": [],
   "source": [
    "\"purchaserContactEmail\": { \"type\": \"string\", \"format\": \"email\"}\n",
    "\"purchaserContactPhone\": { \"type\": \"string\", \"pattern\": \"^[0-9]{10}$\" }\n",
    "\n",
    "# validates:\n",
    "    # \"purchaserContact\": \"hey@andybek.com\"\n",
    "    # \"purchaserContact\": \"6475274486\"\n",
    "\n",
    "# it would NOT validate:\n",
    "    # \"purchaserContact\": \"hello\""
   ]
  },
  {
   "cell_type": "markdown",
   "metadata": {},
   "source": [
    "#### Skill Challenge - Defining An Polymorphic JSON Schema"
   ]
  },
  {
   "cell_type": "markdown",
   "metadata": {},
   "source": [
    "> * Define a schema that restrictively validates the following JSON document:\n",
    "> * https://www.andybek.com/api/data/contentItems"
   ]
  },
  {
   "cell_type": "markdown",
   "metadata": {},
   "source": [
    "* HINTS:\n",
    "> * Focus on keywords like \"array\", \"object\", \"type\", and \"enum\"\n",
    "> * Consider using the $defs keyword to organize your schema.\n",
    "> * For \"image/jpeg\", contentEncoding: \"base64\" ensures image data is correctly encoded. For e.g."
   ]
  },
  {
   "cell_type": "code",
   "execution_count": null,
   "metadata": {},
   "outputs": [],
   "source": [
    "{\n",
    "    \"type\": \"string\",\n",
    "    \"contentEncoding\": \"base64\"\n",
    "}"
   ]
  },
  {
   "cell_type": "markdown",
   "metadata": {},
   "source": [
    "#### Solution"
   ]
  },
  {
   "cell_type": "code",
   "execution_count": null,
   "metadata": {},
   "outputs": [],
   "source": []
  },
  {
   "cell_type": "code",
   "execution_count": null,
   "metadata": {},
   "outputs": [],
   "source": []
  },
  {
   "cell_type": "code",
   "execution_count": null,
   "metadata": {},
   "outputs": [],
   "source": []
  },
  {
   "cell_type": "code",
   "execution_count": null,
   "metadata": {},
   "outputs": [],
   "source": []
  }
 ],
 "metadata": {
  "language_info": {
   "name": "python"
  }
 },
 "nbformat": 4,
 "nbformat_minor": 2
}
