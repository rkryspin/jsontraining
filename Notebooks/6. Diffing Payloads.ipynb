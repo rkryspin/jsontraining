{
 "cells": [
  {
   "cell_type": "markdown",
   "metadata": {},
   "source": [
    "### Diffing Payloads"
   ]
  },
  {
   "cell_type": "markdown",
   "metadata": {},
   "source": [
    "#### Standard Library's Difflib"
   ]
  },
  {
   "cell_type": "markdown",
   "metadata": {},
   "source": [
    "> * how do we compare two JSON documents?\n",
    "> * one (not so great) idea: string compare them using the built-in difflib"
   ]
  },
  {
   "cell_type": "code",
   "execution_count": 6,
   "metadata": {},
   "outputs": [],
   "source": [
    "import difflib"
   ]
  },
  {
   "cell_type": "code",
   "execution_count": 7,
   "metadata": {},
   "outputs": [],
   "source": [
    "text1 = \"apple banana cherry\"\n",
    "text2 = \"apple cherry date\""
   ]
  },
  {
   "cell_type": "code",
   "execution_count": 8,
   "metadata": {},
   "outputs": [],
   "source": [
    "differ = difflib.Differ()"
   ]
  },
  {
   "cell_type": "code",
   "execution_count": 12,
   "metadata": {},
   "outputs": [
    {
     "data": {
      "text/plain": [
       "['  apple', '- banana', '  cherry', '+ date']"
      ]
     },
     "execution_count": 12,
     "metadata": {},
     "output_type": "execute_result"
    }
   ],
   "source": [
    "list(\n",
    "    differ.compare(\n",
    "        text1.split(),\n",
    "        text2.split()\n",
    "    )\n",
    ")"
   ]
  },
  {
   "cell_type": "code",
   "execution_count": 14,
   "metadata": {},
   "outputs": [],
   "source": [
    "json1 = {\"name\": \"John\", \"age\": 30, \"city\": \"New York\", \n",
    "         \"hobbies\": [\"reading\", \"cooking\"], \"isMarried\": True}\n",
    "\n",
    "json2 = {\"name\": \"John\", \"age\": 28, \"city\": \"Los Angeles\"}"
   ]
  },
  {
   "cell_type": "code",
   "execution_count": 15,
   "metadata": {},
   "outputs": [],
   "source": [
    "import json"
   ]
  },
  {
   "cell_type": "code",
   "execution_count": 18,
   "metadata": {},
   "outputs": [],
   "source": [
    "json1_str = json.dumps(json1, indent=2)\n",
    "json2_str = json.dumps(json2, indent=2)"
   ]
  },
  {
   "cell_type": "code",
   "execution_count": 20,
   "metadata": {},
   "outputs": [
    {
     "name": "stdout",
     "output_type": "stream",
     "text": [
      "{\n",
      "  \"name\": \"John\",\n",
      "  \"age\": 30,\n",
      "  \"city\": \"New York\",\n",
      "  \"hobbies\": [\n",
      "    \"reading\",\n",
      "    \"cooking\"\n",
      "  ],\n",
      "  \"isMarried\": true\n",
      "}\n"
     ]
    }
   ],
   "source": [
    "print(json1_str)"
   ]
  },
  {
   "cell_type": "code",
   "execution_count": 21,
   "metadata": {},
   "outputs": [
    {
     "data": {
      "text/plain": [
       "['{',\n",
       " '  \"name\": \"John\",',\n",
       " '  \"age\": 30,',\n",
       " '  \"city\": \"New York\",',\n",
       " '  \"hobbies\": [',\n",
       " '    \"reading\",',\n",
       " '    \"cooking\"',\n",
       " '  ],',\n",
       " '  \"isMarried\": true',\n",
       " '}']"
      ]
     },
     "execution_count": 21,
     "metadata": {},
     "output_type": "execute_result"
    }
   ],
   "source": [
    "json1_str.splitlines()"
   ]
  },
  {
   "cell_type": "code",
   "execution_count": 22,
   "metadata": {},
   "outputs": [],
   "source": [
    "differ = difflib.Differ()\n",
    "diff = list(\n",
    "    differ.compare(\n",
    "        json1_str.splitlines(),\n",
    "        json2_str.splitlines(),\n",
    "    )\n",
    ")"
   ]
  },
  {
   "cell_type": "code",
   "execution_count": 24,
   "metadata": {},
   "outputs": [
    {
     "name": "stdout",
     "output_type": "stream",
     "text": [
      "  {\n",
      "    \"name\": \"John\",\n",
      "-   \"age\": 30,\n",
      "?          ^^\n",
      "\n",
      "+   \"age\": 28,\n",
      "?          ^^\n",
      "\n",
      "+   \"city\": \"Los Angeles\"\n",
      "-   \"city\": \"New York\",\n",
      "-   \"hobbies\": [\n",
      "-     \"reading\",\n",
      "-     \"cooking\"\n",
      "-   ],\n",
      "-   \"isMarried\": true\n",
      "  }\n"
     ]
    }
   ],
   "source": [
    "print(\"\\n\".join(diff))"
   ]
  },
  {
   "cell_type": "markdown",
   "metadata": {},
   "source": [
    "#### Easier Diffing With JsonDiff"
   ]
  },
  {
   "cell_type": "code",
   "execution_count": 32,
   "metadata": {},
   "outputs": [
    {
     "name": "stdout",
     "output_type": "stream",
     "text": [
      "Collecting jsondiff==2.0.0\n",
      "  Using cached jsondiff-2.0.0-py3-none-any.whl.metadata (562 bytes)\n",
      "Using cached jsondiff-2.0.0-py3-none-any.whl (6.6 kB)\n",
      "Installing collected packages: jsondiff\n",
      "Successfully installed jsondiff-2.0.0\n"
     ]
    }
   ],
   "source": [
    "!pip install jsondiff==2.0.0"
   ]
  },
  {
   "cell_type": "code",
   "execution_count": 33,
   "metadata": {},
   "outputs": [],
   "source": [
    "json1 = {\n",
    "    \"name\": \"John\",\n",
    "    \"age\": 30,\n",
    "    \"city\": \"New York\",\n",
    "    \"hobbies\": [\"reading\", \"cooking\"],\n",
    "    \"isMarried\": True,\n",
    "}\n",
    "\n",
    "json2 = {\n",
    "    \"age\": 28,\n",
    "    \"name\": \"John\",\n",
    "    \"city\": \"Los Angeles\",\n",
    "    \"hobbies\": [\"cooking\", \"reading\"],\n",
    "}"
   ]
  },
  {
   "cell_type": "code",
   "execution_count": 34,
   "metadata": {},
   "outputs": [],
   "source": [
    "import jsondiff"
   ]
  },
  {
   "cell_type": "code",
   "execution_count": 35,
   "metadata": {},
   "outputs": [
    {
     "data": {
      "text/plain": [
       "{'age': 28,\n",
       " 'city': 'Los Angeles',\n",
       " 'hobbies': {insert: [(1, 'reading')], delete: [0]},\n",
       " delete: ['isMarried']}"
      ]
     },
     "execution_count": 35,
     "metadata": {},
     "output_type": "execute_result"
    }
   ],
   "source": [
    "jsondiff.diff(json1, json2)"
   ]
  },
  {
   "cell_type": "code",
   "execution_count": 36,
   "metadata": {},
   "outputs": [
    {
     "data": {
      "text/plain": [
       "{update: {'age': 28,\n",
       "  'city': 'Los Angeles',\n",
       "  'hobbies': {insert: [(1, 'reading')], delete: [0]}},\n",
       " delete: ['isMarried']}"
      ]
     },
     "execution_count": 36,
     "metadata": {},
     "output_type": "execute_result"
    }
   ],
   "source": [
    "jsondiff.diff(json1, json2, syntax=\"explicit\")"
   ]
  },
  {
   "cell_type": "code",
   "execution_count": 37,
   "metadata": {},
   "outputs": [
    {
     "data": {
      "text/plain": [
       "{'age': [30, 28],\n",
       " 'city': ['New York', 'Los Angeles'],\n",
       " 'hobbies': {insert: [(1, 'reading')], delete: [(0, 'reading')]},\n",
       " delete: {'isMarried': True}}"
      ]
     },
     "execution_count": 37,
     "metadata": {},
     "output_type": "execute_result"
    }
   ],
   "source": [
    "jsondiff.diff(json1, json2, syntax=\"symmetric\")"
   ]
  },
  {
   "cell_type": "code",
   "execution_count": 38,
   "metadata": {},
   "outputs": [
    {
     "data": {
      "text/plain": [
       "{'age': 28,\n",
       " 'city': 'Los Angeles',\n",
       " 'hobbies': {insert: [(1, 'reading')], delete: [0]},\n",
       " delete: ['isMarried']}"
      ]
     },
     "execution_count": 38,
     "metadata": {},
     "output_type": "execute_result"
    }
   ],
   "source": [
    "# jsondiff.diff(json1, json2, syntax=\"compact\")\n",
    "diffs = jsondiff.diff(json1, json2)\n",
    "diffs"
   ]
  },
  {
   "cell_type": "code",
   "execution_count": 39,
   "metadata": {},
   "outputs": [],
   "source": [
    "from jsondiff import patch"
   ]
  },
  {
   "cell_type": "code",
   "execution_count": 40,
   "metadata": {},
   "outputs": [
    {
     "data": {
      "text/plain": [
       "{'name': 'John',\n",
       " 'age': 28,\n",
       " 'city': 'Los Angeles',\n",
       " 'hobbies': ['cooking', 'reading']}"
      ]
     },
     "execution_count": 40,
     "metadata": {},
     "output_type": "execute_result"
    }
   ],
   "source": [
    "patch(json1, diffs)"
   ]
  },
  {
   "cell_type": "code",
   "execution_count": 41,
   "metadata": {},
   "outputs": [
    {
     "data": {
      "text/plain": [
       "{'age': 28,\n",
       " 'name': 'John',\n",
       " 'city': 'Los Angeles',\n",
       " 'hobbies': ['cooking', 'reading']}"
      ]
     },
     "execution_count": 41,
     "metadata": {},
     "output_type": "execute_result"
    }
   ],
   "source": [
    "json2"
   ]
  },
  {
   "cell_type": "code",
   "execution_count": 42,
   "metadata": {},
   "outputs": [],
   "source": [
    "diffs = jsondiff.diff(json2, json1)"
   ]
  },
  {
   "cell_type": "code",
   "execution_count": 43,
   "metadata": {},
   "outputs": [
    {
     "data": {
      "text/plain": [
       "{'age': 30,\n",
       " 'name': 'John',\n",
       " 'city': 'New York',\n",
       " 'hobbies': ['reading', 'cooking'],\n",
       " 'isMarried': True}"
      ]
     },
     "execution_count": 43,
     "metadata": {},
     "output_type": "execute_result"
    }
   ],
   "source": [
    "patch(json2, diffs)"
   ]
  },
  {
   "cell_type": "code",
   "execution_count": 44,
   "metadata": {},
   "outputs": [
    {
     "data": {
      "text/plain": [
       "{'name': 'John',\n",
       " 'age': 30,\n",
       " 'city': 'New York',\n",
       " 'hobbies': ['reading', 'cooking'],\n",
       " 'isMarried': True}"
      ]
     },
     "execution_count": 44,
     "metadata": {},
     "output_type": "execute_result"
    }
   ],
   "source": [
    "json1"
   ]
  },
  {
   "cell_type": "markdown",
   "metadata": {},
   "source": [
    "#### DeepDiff"
   ]
  },
  {
   "cell_type": "code",
   "execution_count": null,
   "metadata": {},
   "outputs": [],
   "source": [
    "# !pip install deepdiff==6.7.1"
   ]
  },
  {
   "cell_type": "code",
   "execution_count": 45,
   "metadata": {},
   "outputs": [],
   "source": [
    "json1 = {\n",
    "    \"name\": \"John\",\n",
    "    \"age\": 30,\n",
    "    \"city\": \"New York\",\n",
    "    \"hobbies\": [\"reading\", \"cooking\"],\n",
    "    \"isMarried\": True,\n",
    "}\n",
    "\n",
    "json2 = {\n",
    "    \"age\": 28,\n",
    "    \"name\": \"John\",\n",
    "    \"city\": \"Los Angeles\",\n",
    "    \"hobbies\": [\"cooking\", \"reading\"],\n",
    "}"
   ]
  },
  {
   "cell_type": "code",
   "execution_count": 51,
   "metadata": {},
   "outputs": [],
   "source": [
    "from deepdiff import DeepDiff"
   ]
  },
  {
   "cell_type": "code",
   "execution_count": 52,
   "metadata": {},
   "outputs": [],
   "source": [
    "diff = DeepDiff(json1, json2)"
   ]
  },
  {
   "cell_type": "code",
   "execution_count": 53,
   "metadata": {},
   "outputs": [
    {
     "data": {
      "text/plain": [
       "{'dictionary_item_removed': [root['isMarried']],\n",
       " 'values_changed': {\"root['age']\": {'new_value': 28, 'old_value': 30},\n",
       "  \"root['city']\": {'new_value': 'Los Angeles', 'old_value': 'New York'},\n",
       "  \"root['hobbies'][0]\": {'new_value': 'cooking', 'old_value': 'reading'},\n",
       "  \"root['hobbies'][1]\": {'new_value': 'reading', 'old_value': 'cooking'}}}"
      ]
     },
     "execution_count": 53,
     "metadata": {},
     "output_type": "execute_result"
    }
   ],
   "source": [
    "diff"
   ]
  },
  {
   "cell_type": "code",
   "execution_count": 54,
   "metadata": {},
   "outputs": [
    {
     "name": "stdout",
     "output_type": "stream",
     "text": [
      "Item root['isMarried'] removed from dictionary.\n",
      "Value of root['age'] changed from 30 to 28.\n",
      "Value of root['city'] changed from \"New York\" to \"Los Angeles\".\n",
      "Value of root['hobbies'][0] changed from \"reading\" to \"cooking\".\n",
      "Value of root['hobbies'][1] changed from \"cooking\" to \"reading\".\n"
     ]
    }
   ],
   "source": [
    "print(diff.pretty())"
   ]
  },
  {
   "cell_type": "code",
   "execution_count": 55,
   "metadata": {},
   "outputs": [
    {
     "name": "stdout",
     "output_type": "stream",
     "text": [
      "Item root['isMarried'] removed from dictionary.\n",
      "Value of root['age'] changed from 30 to 28.\n",
      "Value of root['city'] changed from \"New York\" to \"Los Angeles\".\n"
     ]
    }
   ],
   "source": [
    "diff = DeepDiff(json1, json2, ignore_order=True)\n",
    "print(diff.pretty())"
   ]
  },
  {
   "cell_type": "code",
   "execution_count": 56,
   "metadata": {},
   "outputs": [],
   "source": [
    "profile1 = {\n",
    "    \"user\": {\n",
    "        \"name\": \"Alice\",\n",
    "        \"details\": {\n",
    "            \"age\": 30,\n",
    "            \"address\": {\"street\": \"123 Main St\", \"city\": \"Townsville\"},\n",
    "        },\n",
    "    }\n",
    "}\n",
    "\n",
    "profile2 = {\n",
    "    \"user\": {\n",
    "        \"name\": \"Alice\",\n",
    "        \"details\": {\n",
    "            \"age\": 31,  # Age changed\n",
    "            \"address\": {\"street\": \"123 Main St\", \"city\": \"Villagetown\"},  # City changed\n",
    "        },\n",
    "    }\n",
    "}"
   ]
  },
  {
   "cell_type": "code",
   "execution_count": 58,
   "metadata": {},
   "outputs": [
    {
     "name": "stdout",
     "output_type": "stream",
     "text": [
      "Value of root['user']['details']['age'] changed from 30 to 31.\n",
      "Value of root['user']['details']['address']['city'] changed from \"Townsville\" to \"Villagetown\".\n"
     ]
    }
   ],
   "source": [
    "diff = DeepDiff(profile1, profile2)\n",
    "print(diff.pretty())"
   ]
  },
  {
   "cell_type": "code",
   "execution_count": 59,
   "metadata": {},
   "outputs": [
    {
     "name": "stdout",
     "output_type": "stream",
     "text": [
      "Value of root['user']['details']['address']['city'] changed from \"Townsville\" to \"Villagetown\".\n"
     ]
    }
   ],
   "source": [
    "diff = DeepDiff(profile1, profile2, exclude_paths={\"root['user']['details']['age']\"})\n",
    "print(diff.pretty())"
   ]
  },
  {
   "cell_type": "code",
   "execution_count": 60,
   "metadata": {},
   "outputs": [
    {
     "name": "stdout",
     "output_type": "stream",
     "text": [
      "Value of root['user']['details']['age'] changed from 30 to 31.\n"
     ]
    }
   ],
   "source": [
    "diff = DeepDiff(profile1, profile2, include_paths={\"root['user']['details']['age']\"})\n",
    "print(diff.pretty())"
   ]
  },
  {
   "cell_type": "code",
   "execution_count": null,
   "metadata": {},
   "outputs": [],
   "source": []
  }
 ],
 "metadata": {
  "kernelspec": {
   "display_name": "env",
   "language": "python",
   "name": "python3"
  },
  "language_info": {
   "codemirror_mode": {
    "name": "ipython",
    "version": 3
   },
   "file_extension": ".py",
   "mimetype": "text/x-python",
   "name": "python",
   "nbconvert_exporter": "python",
   "pygments_lexer": "ipython3",
   "version": "3.10.1"
  }
 },
 "nbformat": 4,
 "nbformat_minor": 2
}
