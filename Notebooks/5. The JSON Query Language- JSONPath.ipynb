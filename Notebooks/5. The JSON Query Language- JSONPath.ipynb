{
 "cells": [
  {
   "cell_type": "markdown",
   "metadata": {},
   "source": [
    "### The JSON Query Language: JSONPath"
   ]
  },
  {
   "cell_type": "markdown",
   "metadata": {},
   "source": [
    "#### Understanding JSONPath"
   ]
  },
  {
   "cell_type": "markdown",
   "metadata": {},
   "source": [
    "> * JSONPath is a query language for JSON documents\n",
    "> * inspired by Xpath (its older sibling in XML)\n",
    "> * let's interactively explore it at: https://jsonpath.com/"
   ]
  },
  {
   "cell_type": "code",
   "execution_count": null,
   "metadata": {},
   "outputs": [],
   "source": [
    "{\n",
    "    \"store\": {\n",
    "        \"book\": [\n",
    "            { \"title\": \"Sayings of the Century\", \"price\": 8.95 },\n",
    "            { \"title\": \"Sword of Honour\", \"price\": 12.99 }\n",
    "        ],\n",
    "        \"bicycle\": {\n",
    "            \"color\": \"red\",\n",
    "            \"price\": 19.95\n",
    "        }\n",
    "    }\n",
    "}"
   ]
  },
  {
   "cell_type": "markdown",
   "metadata": {},
   "source": [
    "#### Introduction To jsonpath-ng In Python"
   ]
  },
  {
   "cell_type": "code",
   "execution_count": null,
   "metadata": {},
   "outputs": [],
   "source": [
    "# !pip install jsonpath-ng==1.6.1"
   ]
  },
  {
   "cell_type": "code",
   "execution_count": 2,
   "metadata": {},
   "outputs": [],
   "source": [
    "from jsonpath_ng import parse "
   ]
  },
  {
   "cell_type": "code",
   "execution_count": 3,
   "metadata": {},
   "outputs": [],
   "source": [
    "document = {\n",
    "    \"person\": {\n",
    "        \"name\": \"Alice Johnson\",\n",
    "        \"age\": 28,\n",
    "        \"gender\": \"female\",\n",
    "        \"contact\": {\"email\": \"alice@example.com\", \"phone\": \"555-123-4567\"},\n",
    "        \"address\": {\n",
    "            \"street\": \"456 Oak Avenue\",\n",
    "            \"city\": \"Somewhereville\",\n",
    "            \"zipcode\": \"12345\",\n",
    "            \"country\": \"USA\",\n",
    "        },\n",
    "        \"interests\": [\"reading\", \"traveling\", \"gardening\"],\n",
    "    },\n",
    "    \"spouse\": {\n",
    "        \"name\": \"Bob Johnson\",\n",
    "        \"age\": 32,\n",
    "        \"gender\": \"male\",\n",
    "        \"contact\": {\"email\": \"bob@example.com\", \"phone\": \"555-987-6543\"},\n",
    "        \"address\": {\n",
    "            \"street\": \"789 Pine Street\",\n",
    "            \"city\": \"Anywhere\",\n",
    "            \"zipcode\": \"67890\",\n",
    "            \"country\": \"USA\",\n",
    "        },\n",
    "        \"interests\": [\"cooking\", \"photography\", \"music\"],\n",
    "    },\n",
    "}"
   ]
  },
  {
   "cell_type": "code",
   "execution_count": 4,
   "metadata": {},
   "outputs": [],
   "source": [
    "# $.spouse.address.zipcode --> 67890"
   ]
  },
  {
   "cell_type": "code",
   "execution_count": 7,
   "metadata": {},
   "outputs": [
    {
     "data": {
      "text/plain": [
       "'67890'"
      ]
     },
     "execution_count": 7,
     "metadata": {},
     "output_type": "execute_result"
    }
   ],
   "source": [
    "result = parse(\"$.spouse.address.zipcode\").find(document)\n",
    "\n",
    "result[0].value"
   ]
  },
  {
   "cell_type": "code",
   "execution_count": 8,
   "metadata": {},
   "outputs": [
    {
     "data": {
      "text/plain": [
       "'Alice Johnson'"
      ]
     },
     "execution_count": 8,
     "metadata": {},
     "output_type": "execute_result"
    }
   ],
   "source": [
    "result = parse(\"$.person.name\").find(document)\n",
    "\n",
    "result[0].value"
   ]
  },
  {
   "cell_type": "code",
   "execution_count": 9,
   "metadata": {},
   "outputs": [
    {
     "data": {
      "text/plain": [
       "32"
      ]
     },
     "execution_count": 9,
     "metadata": {},
     "output_type": "execute_result"
    }
   ],
   "source": [
    "result = parse(\"$.spouse.age\").find(document)\n",
    "\n",
    "result[0].value"
   ]
  },
  {
   "cell_type": "markdown",
   "metadata": {},
   "source": [
    "#### More Practice"
   ]
  },
  {
   "cell_type": "code",
   "execution_count": 10,
   "metadata": {},
   "outputs": [],
   "source": [
    "document = {\n",
    "    \"people\": [\n",
    "        {\"name\": \"Alice\", \"age\": 28, \"city\": \"New York\"},\n",
    "        {\"name\": \"Bob\", \"age\": 35, \"city\": \"Los Angeles\"},\n",
    "        {\"name\": \"Charlie\", \"age\": 22, \"city\": \"Austin\"},\n",
    "        {\"name\": \"Diana\", \"age\": 30, \"city\": \"Houston\"},\n",
    "        {\"name\": \"Edward\", \"age\": 40, \"city\": \"Miami\"},\n",
    "        {\"name\": \"Fiona\", \"age\": 25, \"city\": \"San Francisco\"},\n",
    "        {\"name\": \"George\", \"age\": 32, \"city\": \"Seattle\"},\n",
    "        {\"name\": \"Helen\", \"age\": 27, \"city\": \"Boston\"},\n",
    "        {\"name\": \"Ivan\", \"age\": 38, \"city\": \"Denver\"},\n",
    "        {\"name\": \"Jasmine\", \"age\": 23, \"city\": \"Austin\"},\n",
    "    ]\n",
    "}"
   ]
  },
  {
   "cell_type": "code",
   "execution_count": null,
   "metadata": {},
   "outputs": [],
   "source": [
    "#1: all the people who are older than 30"
   ]
  },
  {
   "cell_type": "code",
   "execution_count": 16,
   "metadata": {},
   "outputs": [],
   "source": [
    "# from jsonpath_ng import parse\n",
    "from jsonpath_ng.ext import parse"
   ]
  },
  {
   "cell_type": "code",
   "execution_count": 17,
   "metadata": {},
   "outputs": [
    {
     "name": "stdout",
     "output_type": "stream",
     "text": [
      "{'name': 'Bob', 'age': 35, 'city': 'Los Angeles'}\n",
      "{'name': 'Edward', 'age': 40, 'city': 'Miami'}\n",
      "{'name': 'George', 'age': 32, 'city': 'Seattle'}\n",
      "{'name': 'Ivan', 'age': 38, 'city': 'Denver'}\n"
     ]
    }
   ],
   "source": [
    "try:\n",
    "    expr = parse(\"$.people[?(@.age > 30)]\")\n",
    "    \n",
    "    for match in expr.find(document):\n",
    "        print(match.value)\n",
    "except Exception as e:\n",
    "    print(f\"Error: {str(e)}\")"
   ]
  },
  {
   "cell_type": "code",
   "execution_count": 18,
   "metadata": {},
   "outputs": [],
   "source": [
    "#2: first 3 people"
   ]
  },
  {
   "cell_type": "code",
   "execution_count": 19,
   "metadata": {},
   "outputs": [
    {
     "name": "stdout",
     "output_type": "stream",
     "text": [
      "{'name': 'Alice', 'age': 28, 'city': 'New York'}\n",
      "{'name': 'Bob', 'age': 35, 'city': 'Los Angeles'}\n",
      "{'name': 'Charlie', 'age': 22, 'city': 'Austin'}\n"
     ]
    }
   ],
   "source": [
    "try:\n",
    "    expr = parse(\"$.people[0:3]\")\n",
    "    \n",
    "    for match in expr.find(document):\n",
    "        print(match.value)\n",
    "except Exception as e:\n",
    "    print(f\"Error: {str(e)}\")"
   ]
  },
  {
   "cell_type": "code",
   "execution_count": 20,
   "metadata": {},
   "outputs": [],
   "source": [
    "#3: all the people who live in Austin"
   ]
  },
  {
   "cell_type": "code",
   "execution_count": 21,
   "metadata": {},
   "outputs": [
    {
     "name": "stdout",
     "output_type": "stream",
     "text": [
      "{'name': 'Charlie', 'age': 22, 'city': 'Austin'}\n",
      "{'name': 'Jasmine', 'age': 23, 'city': 'Austin'}\n"
     ]
    }
   ],
   "source": [
    "try:\n",
    "    expr = parse('$.people[?(@.city == \"Austin\")]')\n",
    "    \n",
    "    for match in expr.find(document):\n",
    "        print(match.value)\n",
    "except Exception as e:\n",
    "    print(f\"Error: {str(e)}\")"
   ]
  },
  {
   "cell_type": "markdown",
   "metadata": {},
   "source": [
    "#### Advanced Patterns"
   ]
  },
  {
   "cell_type": "code",
   "execution_count": 22,
   "metadata": {},
   "outputs": [],
   "source": [
    "document = {\n",
    "    \"person\": {\n",
    "        \"name\": \"Alice Johnson\",\n",
    "        \"age\": 28,\n",
    "        \"gender\": \"female\",\n",
    "        \"contact\": {\"email\": \"alice@example.com\", \"phone\": \"555-123-4567\"},\n",
    "        \"address\": {\n",
    "            \"street\": \"456 Oak Avenue\",\n",
    "            \"city\": \"Somewhereville\",\n",
    "            \"zipcode\": \"12345\",\n",
    "            \"country\": \"USA\",\n",
    "        },\n",
    "        \"interests\": [\"reading\", \"traveling\", \"gardening\"],\n",
    "    },\n",
    "    \"spouse\": {\n",
    "        \"name\": \"Bob Johnson\",\n",
    "        \"age\": 32,\n",
    "        \"gender\": \"male\",\n",
    "        \"contact\": {\"email\": \"bob@example.com\", \"phone\": \"555-987-6543\"},\n",
    "        \"address\": {\n",
    "            \"street\": \"789 Pine Street\",\n",
    "            \"city\": \"Anywhere\",\n",
    "            \"zipcode\": \"67890\",\n",
    "            \"country\": \"USA\",\n",
    "        },\n",
    "        \"interests\": [\"cooking\", \"photography\", \"music\"],\n",
    "    },\n",
    "}"
   ]
  },
  {
   "cell_type": "markdown",
   "metadata": {},
   "source": [
    "> 0. define a reusable helper that parses and evaluates an expression against a document"
   ]
  },
  {
   "cell_type": "code",
   "execution_count": 24,
   "metadata": {},
   "outputs": [],
   "source": [
    "from jsonpath_ng.ext import parse\n",
    "\n",
    "def _(jsonpath_str, data_dict):\n",
    "    try:\n",
    "        expr = parse(jsonpath_str)\n",
    "        matches = expr.find(data_dict)\n",
    "        \n",
    "        if matches:\n",
    "            for match in matches:\n",
    "                print(match.value)\n",
    "        else:\n",
    "            print(\"No matches found.\")\n",
    "    except Exception as e:\n",
    "        print(f\"Error: {str(e)}\")"
   ]
  },
  {
   "cell_type": "code",
   "execution_count": 26,
   "metadata": {},
   "outputs": [
    {
     "name": "stdout",
     "output_type": "stream",
     "text": [
      "Bob Johnson\n"
     ]
    }
   ],
   "source": [
    "_(\"$.spouse.name\", document)"
   ]
  },
  {
   "cell_type": "code",
   "execution_count": null,
   "metadata": {},
   "outputs": [],
   "source": []
  },
  {
   "cell_type": "markdown",
   "metadata": {},
   "source": [
    "> 1. select the email and phone properties for the person object"
   ]
  },
  {
   "cell_type": "code",
   "execution_count": 27,
   "metadata": {},
   "outputs": [
    {
     "name": "stdout",
     "output_type": "stream",
     "text": [
      "alice@example.com\n",
      "555-123-4567\n"
     ]
    }
   ],
   "source": [
    "_(\"$.person.contact['email', 'phone']\", document)"
   ]
  },
  {
   "cell_type": "markdown",
   "metadata": {},
   "source": [
    "> 2. select all the interests ending with \"ing\""
   ]
  },
  {
   "cell_type": "code",
   "execution_count": 29,
   "metadata": {},
   "outputs": [
    {
     "name": "stdout",
     "output_type": "stream",
     "text": [
      "['reading', 'traveling', 'gardening']\n",
      "['cooking', 'photography', 'music']\n"
     ]
    }
   ],
   "source": [
    "_(\"$..interests\", document)"
   ]
  },
  {
   "cell_type": "code",
   "execution_count": 31,
   "metadata": {},
   "outputs": [
    {
     "name": "stdout",
     "output_type": "stream",
     "text": [
      "reading\n",
      "traveling\n",
      "gardening\n",
      "cooking\n"
     ]
    }
   ],
   "source": [
    "_(\"$..interests[?(@ =~ '.*ing$')]\", document)"
   ]
  },
  {
   "cell_type": "code",
   "execution_count": null,
   "metadata": {},
   "outputs": [],
   "source": []
  }
 ],
 "metadata": {
  "kernelspec": {
   "display_name": "env",
   "language": "python",
   "name": "python3"
  },
  "language_info": {
   "codemirror_mode": {
    "name": "ipython",
    "version": 3
   },
   "file_extension": ".py",
   "mimetype": "text/x-python",
   "name": "python",
   "nbconvert_exporter": "python",
   "pygments_lexer": "ipython3",
   "version": "3.10.1"
  }
 },
 "nbformat": 4,
 "nbformat_minor": 2
}
