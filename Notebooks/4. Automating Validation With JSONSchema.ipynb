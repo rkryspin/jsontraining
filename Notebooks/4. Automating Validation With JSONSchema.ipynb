{
 "cells": [
  {
   "cell_type": "markdown",
   "metadata": {},
   "source": [
    "### Automating Validation With JSONSchema"
   ]
  },
  {
   "cell_type": "markdown",
   "metadata": {},
   "source": [
    "#### Setting Up"
   ]
  },
  {
   "cell_type": "code",
   "execution_count": 1,
   "metadata": {},
   "outputs": [],
   "source": [
    "document = {\n",
    "        \"name\": \"S&P 500 Index Fund\",\n",
    "        \"symbol\": \"SPY\",\n",
    "        \"price\": 420.50,\n",
    "        \"currency\": \"USD\",\n",
    "        \"inceptionDate\": \"1993-01-22\"\n",
    "}"
   ]
  },
  {
   "cell_type": "code",
   "execution_count": 2,
   "metadata": {},
   "outputs": [],
   "source": [
    "schema = {\n",
    "    \"$schema\": \"https://json-schema.org/draft/2020-12/schema\",\n",
    "    \"type\": \"object\",\n",
    "    \"properties\": {\n",
    "        \"name\": {\"type\": \"string\"},\n",
    "        \"symbol\": {\"type\": \"string\"},\n",
    "        \"price\": {\"type\": \"number\"},\n",
    "        \"currency\": {\"type\": \"string\"},\n",
    "        \"inceptionDate\": {\"type\": \"string\", \"format\": \"date\"},\n",
    "    },\n",
    "    \"required\": [\"name\", \"symbol\", \"price\", \"currency\", \"inceptionDate\"],\n",
    "}"
   ]
  },
  {
   "cell_type": "code",
   "execution_count": 4,
   "metadata": {},
   "outputs": [],
   "source": [
    "from jsonschema import validate, ValidationError"
   ]
  },
  {
   "cell_type": "code",
   "execution_count": 5,
   "metadata": {},
   "outputs": [
    {
     "name": "stdout",
     "output_type": "stream",
     "text": [
      "The document is valid against the schema\n"
     ]
    }
   ],
   "source": [
    "try:\n",
    "    validate(document, schema)\n",
    "    print(\"The document is valid against the schema\")\n",
    "except ValidationError as e:\n",
    "    print(f\"The document is not valid against the schema: {e}\")"
   ]
  },
  {
   "cell_type": "code",
   "execution_count": 6,
   "metadata": {},
   "outputs": [],
   "source": [
    "document = {\n",
    "        \"name\": \"S&P 500 Index Fund\",\n",
    "        \"symbol\": \"SPY\",\n",
    "        \"price\": \"420.50\",\n",
    "        \"currency\": \"USD\",\n",
    "        \"inceptionDate\": \"1993-01-22\"\n",
    "}"
   ]
  },
  {
   "cell_type": "code",
   "execution_count": 7,
   "metadata": {},
   "outputs": [
    {
     "name": "stdout",
     "output_type": "stream",
     "text": [
      "The document is not valid against the schema: '420.50' is not of type 'number'\n",
      "\n",
      "Failed validating 'type' in schema['properties']['price']:\n",
      "    {'type': 'number'}\n",
      "\n",
      "On instance['price']:\n",
      "    '420.50'\n"
     ]
    }
   ],
   "source": [
    "try:\n",
    "    validate(document, schema)\n",
    "    print(\"The document is valid against the schema\")\n",
    "except ValidationError as e:\n",
    "    print(f\"The document is not valid against the schema: {e}\")"
   ]
  },
  {
   "cell_type": "markdown",
   "metadata": {},
   "source": [
    "#### Format Validation"
   ]
  },
  {
   "cell_type": "code",
   "execution_count": 9,
   "metadata": {},
   "outputs": [],
   "source": [
    "schema = {\n",
    "    \"type\": \"object\", \n",
    "    \"properties\": {\n",
    "        \"date\": {\n",
    "            \"type\": \"string\",\n",
    "            \"format\": \"date\"\n",
    "        }\n",
    "    }\n",
    "}"
   ]
  },
  {
   "cell_type": "code",
   "execution_count": null,
   "metadata": {},
   "outputs": [],
   "source": [
    "# full date->  \n",
    "# \n",
    "    # 2024-07-23 VALID \n",
    "    # 2024 07 INVALID"
   ]
  },
  {
   "cell_type": "code",
   "execution_count": 10,
   "metadata": {},
   "outputs": [],
   "source": [
    "document = {\n",
    "    \"date\": \"2024 07\"\n",
    "}"
   ]
  },
  {
   "cell_type": "code",
   "execution_count": 11,
   "metadata": {},
   "outputs": [
    {
     "name": "stdout",
     "output_type": "stream",
     "text": [
      "The document is valid against the schema\n"
     ]
    }
   ],
   "source": [
    "try:\n",
    "    validate(document, schema)\n",
    "    print(\"The document is valid against the schema\")\n",
    "except ValidationError as e:\n",
    "    print(f\"The document is not valid against the schema: {e}\")"
   ]
  },
  {
   "cell_type": "code",
   "execution_count": 12,
   "metadata": {},
   "outputs": [],
   "source": [
    "from jsonschema import Draft202012Validator"
   ]
  },
  {
   "cell_type": "code",
   "execution_count": 13,
   "metadata": {},
   "outputs": [
    {
     "data": {
      "text/plain": [
       "<FormatChecker checkers=['date', 'email', 'idn-email', 'idn-hostname', 'ipv4', 'ipv6', 'regex', 'uuid']>"
      ]
     },
     "execution_count": 13,
     "metadata": {},
     "output_type": "execute_result"
    }
   ],
   "source": [
    "Draft202012Validator.FORMAT_CHECKER"
   ]
  },
  {
   "cell_type": "code",
   "execution_count": 14,
   "metadata": {},
   "outputs": [
    {
     "name": "stdout",
     "output_type": "stream",
     "text": [
      "The document is not valid against the schema: '2024 07' is not a 'date'\n",
      "\n",
      "Failed validating 'format' in schema['properties']['date']:\n",
      "    {'format': 'date', 'type': 'string'}\n",
      "\n",
      "On instance['date']:\n",
      "    '2024 07'\n"
     ]
    }
   ],
   "source": [
    "try:\n",
    "    validate(document, schema, format_checker=Draft202012Validator.FORMAT_CHECKER)\n",
    "    print(\"The document is valid against the schema\")\n",
    "except ValidationError as e:\n",
    "    print(f\"The document is not valid against the schema: {e}\")"
   ]
  },
  {
   "cell_type": "markdown",
   "metadata": {},
   "source": [
    "#### Crafting Customized Formats"
   ]
  },
  {
   "cell_type": "code",
   "execution_count": null,
   "metadata": {},
   "outputs": [],
   "source": [
    "# US Zip Code format\n",
    "    # 12345 \n",
    "    # 12345-4321"
   ]
  },
  {
   "cell_type": "code",
   "execution_count": 16,
   "metadata": {},
   "outputs": [],
   "source": [
    "schema = {\n",
    "    \"type\": \"object\",\n",
    "    \"properties\": {\n",
    "        \"address\": {\n",
    "            \"type\": \"object\",\n",
    "            \"properties\": {\n",
    "                \"zip_code\": {\n",
    "                    \"type\": \"string\",\n",
    "                    \"format\": \"us-zip-code\"\n",
    "                }\n",
    "            },\n",
    "            \"required\": [\"zip_code\"]\n",
    "        }\n",
    "    },\n",
    "    \"required\": [\"address\"]\n",
    "}"
   ]
  },
  {
   "cell_type": "code",
   "execution_count": 17,
   "metadata": {},
   "outputs": [],
   "source": [
    "document = {\n",
    "    \"address\": {\n",
    "        \"zip_code\": \"12345ANDY\"\n",
    "    }\n",
    "}"
   ]
  },
  {
   "cell_type": "code",
   "execution_count": 18,
   "metadata": {},
   "outputs": [
    {
     "name": "stdout",
     "output_type": "stream",
     "text": [
      "The document is valid against the schema\n"
     ]
    }
   ],
   "source": [
    "try:\n",
    "    validate(document, schema, format_checker=Draft202012Validator.FORMAT_CHECKER)\n",
    "    print(\"The document is valid against the schema\")\n",
    "except ValidationError as e:\n",
    "    print(f\"The document is not valid against the schema: {e}\")"
   ]
  },
  {
   "cell_type": "code",
   "execution_count": 19,
   "metadata": {},
   "outputs": [],
   "source": [
    "# 1. define a function that implements the validation logic\n",
    "\n",
    "# target: US Zip Code format\n",
    "    # 12345 \n",
    "    # 12345-4321"
   ]
  },
  {
   "cell_type": "code",
   "execution_count": 20,
   "metadata": {},
   "outputs": [],
   "source": [
    "import re"
   ]
  },
  {
   "cell_type": "code",
   "execution_count": null,
   "metadata": {},
   "outputs": [],
   "source": [
    "# ANDY12345BEK  X\n",
    "# 12345 V\n",
    "# 12345-1234 V"
   ]
  },
  {
   "cell_type": "code",
   "execution_count": null,
   "metadata": {},
   "outputs": [],
   "source": [
    "# \\d -> [0-9]"
   ]
  },
  {
   "cell_type": "code",
   "execution_count": 21,
   "metadata": {},
   "outputs": [],
   "source": [
    "def is_us_zip_code(instance):\n",
    "    if not re.match(r\"^\\d{5}(-\\d{4})?$\", instance):\n",
    "        return False\n",
    "    \n",
    "    return True"
   ]
  },
  {
   "cell_type": "code",
   "execution_count": null,
   "metadata": {},
   "outputs": [],
   "source": [
    "# 2. register the format & validation function with the validator"
   ]
  },
  {
   "cell_type": "code",
   "execution_count": 22,
   "metadata": {},
   "outputs": [
    {
     "data": {
      "text/plain": [
       "<FormatChecker checkers=['date', 'email', 'idn-email', 'idn-hostname', 'ipv4', 'ipv6', 'regex', 'uuid']>"
      ]
     },
     "execution_count": 22,
     "metadata": {},
     "output_type": "execute_result"
    }
   ],
   "source": [
    "Draft202012Validator.FORMAT_CHECKER"
   ]
  },
  {
   "cell_type": "code",
   "execution_count": 23,
   "metadata": {},
   "outputs": [
    {
     "data": {
      "text/plain": [
       "<function __main__.is_us_zip_code(instance)>"
      ]
     },
     "execution_count": 23,
     "metadata": {},
     "output_type": "execute_result"
    }
   ],
   "source": [
    "Draft202012Validator.FORMAT_CHECKER.checks(\"us-zip-code\")(is_us_zip_code)"
   ]
  },
  {
   "cell_type": "code",
   "execution_count": 26,
   "metadata": {},
   "outputs": [
    {
     "name": "stdout",
     "output_type": "stream",
     "text": [
      "The document is not valid against the schema: '12345ANDY' is not a 'us-zip-code'\n",
      "\n",
      "Failed validating 'format' in schema['properties']['address']['properties']['zip_code']:\n",
      "    {'format': 'us-zip-code', 'type': 'string'}\n",
      "\n",
      "On instance['address']['zip_code']:\n",
      "    '12345ANDY'\n"
     ]
    }
   ],
   "source": [
    "document = {\n",
    "    \"address\": {\n",
    "        \"zip_code\": \"12345ANDY\"\n",
    "    }\n",
    "}\n",
    "\n",
    "try:\n",
    "    validate(document, schema, format_checker=Draft202012Validator.FORMAT_CHECKER)\n",
    "    print(\"The document is valid against the schema\")\n",
    "except ValidationError as e:\n",
    "    print(f\"The document is not valid against the schema: {e}\")"
   ]
  },
  {
   "cell_type": "code",
   "execution_count": 28,
   "metadata": {},
   "outputs": [
    {
     "name": "stdout",
     "output_type": "stream",
     "text": [
      "The document is valid against the schema\n"
     ]
    }
   ],
   "source": [
    "document = {\n",
    "    \"address\": {\n",
    "        \"zip_code\": \"12345-1234\"\n",
    "    }\n",
    "}\n",
    "\n",
    "try:\n",
    "    validate(document, schema, format_checker=Draft202012Validator.FORMAT_CHECKER)\n",
    "    print(\"The document is valid against the schema\")\n",
    "except ValidationError as e:\n",
    "    print(f\"The document is not valid against the schema: {e}\")"
   ]
  },
  {
   "cell_type": "markdown",
   "metadata": {},
   "source": [
    "#### Dereferencing "
   ]
  },
  {
   "cell_type": "markdown",
   "metadata": {},
   "source": [
    "> * $id is used to assign unique identifiers to schemas"
   ]
  },
  {
   "cell_type": "code",
   "execution_count": 29,
   "metadata": {},
   "outputs": [],
   "source": [
    "address_subschema = {\n",
    "    \"$schema\": \"https://json-schema.org/draft/2020-12/schema\",\n",
    "    \"$id\": \"https://somedomain.xyz/schemas/address.json\",\n",
    "    \"type\": \"object\",\n",
    "    \"properties\": {\n",
    "        \"street\": {\"type\": \"string\"},\n",
    "        \"city\": {\"type\": \"string\"},\n",
    "        \"state\": {\"type\": \"string\"}\n",
    "    },\n",
    "    \"required\": [\"street\", \"city\", \"state\"]\n",
    "}"
   ]
  },
  {
   "cell_type": "code",
   "execution_count": 38,
   "metadata": {},
   "outputs": [],
   "source": [
    "person_subschema = {\n",
    "    \"$schema\": \"https://json-schema.org/draft/2020-12/schema\",\n",
    "    \"$id\": \"https://somedomain.xyz/schemas/person.json\",\n",
    "    \"type\": \"object\",\n",
    "    \"properties\": {\n",
    "        \"name\": {\"type\": \"string\"},\n",
    "        \"age\": {\"type\": \"integer\"},\n",
    "        \"address\": {\"$ref\": \"https://somedomain.xyz/schemas/address.json\"}\n",
    "    },\n",
    "    \"required\": [\"name\", \"age\", \"address\"]\n",
    "}"
   ]
  },
  {
   "cell_type": "code",
   "execution_count": 32,
   "metadata": {},
   "outputs": [],
   "source": [
    "main_schema = {\n",
    "    \"$schema\": \"https://json-schema.org/draft/2020-12/schema\",\n",
    "    \"$id\": \"https://somedomain.xyz/schemas/main.json\",\n",
    "    \"type\": \"object\",\n",
    "    \"properties\": {\n",
    "        \"person\": {\"$ref\": \"https://somedomain.xyz/schemas/person.json\"},\n",
    "        \"spouse\": {\"$ref\": \"https://somedomain.xyz/schemas/person.json\"},\n",
    "        \"isMarried\": {\"type\": \"boolean\"}\n",
    "    },\n",
    "    \"required\": [\"person\", \"isMarried\"],\n",
    "    \"if\": {\n",
    "        \"properties\": {\"isMarried\": {\"const\": True}}\n",
    "    },\n",
    "    \"then\": {\n",
    "        \"required\": [\"person\", \"spouse\"]\n",
    "    }\n",
    "}"
   ]
  },
  {
   "cell_type": "code",
   "execution_count": 33,
   "metadata": {},
   "outputs": [],
   "source": [
    "document = {\n",
    "    \"person\": {\n",
    "        \"name\": \"John Doe\"\n",
    "    }\n",
    "}"
   ]
  },
  {
   "cell_type": "code",
   "execution_count": 35,
   "metadata": {},
   "outputs": [
    {
     "ename": "_WrappedReferencingError",
     "evalue": "Unresolvable: https://somedomain.xyz/schemas/person.json",
     "output_type": "error",
     "traceback": [
      "\u001b[0;31m---------------------------------------------------------------------------\u001b[0m",
      "\u001b[0;31mgaierror\u001b[0m                                  Traceback (most recent call last)",
      "File \u001b[0;32m~/.pyenv/versions/3.10.1/lib/python3.10/urllib/request.py:1348\u001b[0m, in \u001b[0;36mAbstractHTTPHandler.do_open\u001b[0;34m(self, http_class, req, **http_conn_args)\u001b[0m\n\u001b[1;32m   1347\u001b[0m \u001b[38;5;28;01mtry\u001b[39;00m:\n\u001b[0;32m-> 1348\u001b[0m     \u001b[43mh\u001b[49m\u001b[38;5;241;43m.\u001b[39;49m\u001b[43mrequest\u001b[49m\u001b[43m(\u001b[49m\u001b[43mreq\u001b[49m\u001b[38;5;241;43m.\u001b[39;49m\u001b[43mget_method\u001b[49m\u001b[43m(\u001b[49m\u001b[43m)\u001b[49m\u001b[43m,\u001b[49m\u001b[43m \u001b[49m\u001b[43mreq\u001b[49m\u001b[38;5;241;43m.\u001b[39;49m\u001b[43mselector\u001b[49m\u001b[43m,\u001b[49m\u001b[43m \u001b[49m\u001b[43mreq\u001b[49m\u001b[38;5;241;43m.\u001b[39;49m\u001b[43mdata\u001b[49m\u001b[43m,\u001b[49m\u001b[43m \u001b[49m\u001b[43mheaders\u001b[49m\u001b[43m,\u001b[49m\n\u001b[1;32m   1349\u001b[0m \u001b[43m              \u001b[49m\u001b[43mencode_chunked\u001b[49m\u001b[38;5;241;43m=\u001b[39;49m\u001b[43mreq\u001b[49m\u001b[38;5;241;43m.\u001b[39;49m\u001b[43mhas_header\u001b[49m\u001b[43m(\u001b[49m\u001b[38;5;124;43m'\u001b[39;49m\u001b[38;5;124;43mTransfer-encoding\u001b[39;49m\u001b[38;5;124;43m'\u001b[39;49m\u001b[43m)\u001b[49m\u001b[43m)\u001b[49m\n\u001b[1;32m   1350\u001b[0m \u001b[38;5;28;01mexcept\u001b[39;00m \u001b[38;5;167;01mOSError\u001b[39;00m \u001b[38;5;28;01mas\u001b[39;00m err: \u001b[38;5;66;03m# timeout error\u001b[39;00m\n",
      "File \u001b[0;32m~/.pyenv/versions/3.10.1/lib/python3.10/http/client.py:1282\u001b[0m, in \u001b[0;36mHTTPConnection.request\u001b[0;34m(self, method, url, body, headers, encode_chunked)\u001b[0m\n\u001b[1;32m   1281\u001b[0m \u001b[38;5;250m\u001b[39m\u001b[38;5;124;03m\"\"\"Send a complete request to the server.\"\"\"\u001b[39;00m\n\u001b[0;32m-> 1282\u001b[0m \u001b[38;5;28;43mself\u001b[39;49m\u001b[38;5;241;43m.\u001b[39;49m\u001b[43m_send_request\u001b[49m\u001b[43m(\u001b[49m\u001b[43mmethod\u001b[49m\u001b[43m,\u001b[49m\u001b[43m \u001b[49m\u001b[43murl\u001b[49m\u001b[43m,\u001b[49m\u001b[43m \u001b[49m\u001b[43mbody\u001b[49m\u001b[43m,\u001b[49m\u001b[43m \u001b[49m\u001b[43mheaders\u001b[49m\u001b[43m,\u001b[49m\u001b[43m \u001b[49m\u001b[43mencode_chunked\u001b[49m\u001b[43m)\u001b[49m\n",
      "File \u001b[0;32m~/.pyenv/versions/3.10.1/lib/python3.10/http/client.py:1328\u001b[0m, in \u001b[0;36mHTTPConnection._send_request\u001b[0;34m(self, method, url, body, headers, encode_chunked)\u001b[0m\n\u001b[1;32m   1327\u001b[0m     body \u001b[38;5;241m=\u001b[39m _encode(body, \u001b[38;5;124m'\u001b[39m\u001b[38;5;124mbody\u001b[39m\u001b[38;5;124m'\u001b[39m)\n\u001b[0;32m-> 1328\u001b[0m \u001b[38;5;28;43mself\u001b[39;49m\u001b[38;5;241;43m.\u001b[39;49m\u001b[43mendheaders\u001b[49m\u001b[43m(\u001b[49m\u001b[43mbody\u001b[49m\u001b[43m,\u001b[49m\u001b[43m \u001b[49m\u001b[43mencode_chunked\u001b[49m\u001b[38;5;241;43m=\u001b[39;49m\u001b[43mencode_chunked\u001b[49m\u001b[43m)\u001b[49m\n",
      "File \u001b[0;32m~/.pyenv/versions/3.10.1/lib/python3.10/http/client.py:1277\u001b[0m, in \u001b[0;36mHTTPConnection.endheaders\u001b[0;34m(self, message_body, encode_chunked)\u001b[0m\n\u001b[1;32m   1276\u001b[0m     \u001b[38;5;28;01mraise\u001b[39;00m CannotSendHeader()\n\u001b[0;32m-> 1277\u001b[0m \u001b[38;5;28;43mself\u001b[39;49m\u001b[38;5;241;43m.\u001b[39;49m\u001b[43m_send_output\u001b[49m\u001b[43m(\u001b[49m\u001b[43mmessage_body\u001b[49m\u001b[43m,\u001b[49m\u001b[43m \u001b[49m\u001b[43mencode_chunked\u001b[49m\u001b[38;5;241;43m=\u001b[39;49m\u001b[43mencode_chunked\u001b[49m\u001b[43m)\u001b[49m\n",
      "File \u001b[0;32m~/.pyenv/versions/3.10.1/lib/python3.10/http/client.py:1037\u001b[0m, in \u001b[0;36mHTTPConnection._send_output\u001b[0;34m(self, message_body, encode_chunked)\u001b[0m\n\u001b[1;32m   1036\u001b[0m \u001b[38;5;28;01mdel\u001b[39;00m \u001b[38;5;28mself\u001b[39m\u001b[38;5;241m.\u001b[39m_buffer[:]\n\u001b[0;32m-> 1037\u001b[0m \u001b[38;5;28;43mself\u001b[39;49m\u001b[38;5;241;43m.\u001b[39;49m\u001b[43msend\u001b[49m\u001b[43m(\u001b[49m\u001b[43mmsg\u001b[49m\u001b[43m)\u001b[49m\n\u001b[1;32m   1039\u001b[0m \u001b[38;5;28;01mif\u001b[39;00m message_body \u001b[38;5;129;01mis\u001b[39;00m \u001b[38;5;129;01mnot\u001b[39;00m \u001b[38;5;28;01mNone\u001b[39;00m:\n\u001b[1;32m   1040\u001b[0m \n\u001b[1;32m   1041\u001b[0m     \u001b[38;5;66;03m# create a consistent interface to message_body\u001b[39;00m\n",
      "File \u001b[0;32m~/.pyenv/versions/3.10.1/lib/python3.10/http/client.py:975\u001b[0m, in \u001b[0;36mHTTPConnection.send\u001b[0;34m(self, data)\u001b[0m\n\u001b[1;32m    974\u001b[0m \u001b[38;5;28;01mif\u001b[39;00m \u001b[38;5;28mself\u001b[39m\u001b[38;5;241m.\u001b[39mauto_open:\n\u001b[0;32m--> 975\u001b[0m     \u001b[38;5;28;43mself\u001b[39;49m\u001b[38;5;241;43m.\u001b[39;49m\u001b[43mconnect\u001b[49m\u001b[43m(\u001b[49m\u001b[43m)\u001b[49m\n\u001b[1;32m    976\u001b[0m \u001b[38;5;28;01melse\u001b[39;00m:\n",
      "File \u001b[0;32m~/.pyenv/versions/3.10.1/lib/python3.10/http/client.py:1447\u001b[0m, in \u001b[0;36mHTTPSConnection.connect\u001b[0;34m(self)\u001b[0m\n\u001b[1;32m   1445\u001b[0m \u001b[38;5;124m\"\u001b[39m\u001b[38;5;124mConnect to a host on a given (SSL) port.\u001b[39m\u001b[38;5;124m\"\u001b[39m\n\u001b[0;32m-> 1447\u001b[0m \u001b[38;5;28;43msuper\u001b[39;49m\u001b[43m(\u001b[49m\u001b[43m)\u001b[49m\u001b[38;5;241;43m.\u001b[39;49m\u001b[43mconnect\u001b[49m\u001b[43m(\u001b[49m\u001b[43m)\u001b[49m\n\u001b[1;32m   1449\u001b[0m \u001b[38;5;28;01mif\u001b[39;00m \u001b[38;5;28mself\u001b[39m\u001b[38;5;241m.\u001b[39m_tunnel_host:\n",
      "File \u001b[0;32m~/.pyenv/versions/3.10.1/lib/python3.10/http/client.py:941\u001b[0m, in \u001b[0;36mHTTPConnection.connect\u001b[0;34m(self)\u001b[0m\n\u001b[1;32m    940\u001b[0m sys\u001b[38;5;241m.\u001b[39maudit(\u001b[38;5;124m\"\u001b[39m\u001b[38;5;124mhttp.client.connect\u001b[39m\u001b[38;5;124m\"\u001b[39m, \u001b[38;5;28mself\u001b[39m, \u001b[38;5;28mself\u001b[39m\u001b[38;5;241m.\u001b[39mhost, \u001b[38;5;28mself\u001b[39m\u001b[38;5;241m.\u001b[39mport)\n\u001b[0;32m--> 941\u001b[0m \u001b[38;5;28mself\u001b[39m\u001b[38;5;241m.\u001b[39msock \u001b[38;5;241m=\u001b[39m \u001b[38;5;28;43mself\u001b[39;49m\u001b[38;5;241;43m.\u001b[39;49m\u001b[43m_create_connection\u001b[49m\u001b[43m(\u001b[49m\n\u001b[1;32m    942\u001b[0m \u001b[43m    \u001b[49m\u001b[43m(\u001b[49m\u001b[38;5;28;43mself\u001b[39;49m\u001b[38;5;241;43m.\u001b[39;49m\u001b[43mhost\u001b[49m\u001b[43m,\u001b[49m\u001b[38;5;28;43mself\u001b[39;49m\u001b[38;5;241;43m.\u001b[39;49m\u001b[43mport\u001b[49m\u001b[43m)\u001b[49m\u001b[43m,\u001b[49m\u001b[43m \u001b[49m\u001b[38;5;28;43mself\u001b[39;49m\u001b[38;5;241;43m.\u001b[39;49m\u001b[43mtimeout\u001b[49m\u001b[43m,\u001b[49m\u001b[43m \u001b[49m\u001b[38;5;28;43mself\u001b[39;49m\u001b[38;5;241;43m.\u001b[39;49m\u001b[43msource_address\u001b[49m\u001b[43m)\u001b[49m\n\u001b[1;32m    943\u001b[0m \u001b[38;5;66;03m# Might fail in OSs that don't implement TCP_NODELAY\u001b[39;00m\n",
      "File \u001b[0;32m~/.pyenv/versions/3.10.1/lib/python3.10/socket.py:824\u001b[0m, in \u001b[0;36mcreate_connection\u001b[0;34m(address, timeout, source_address)\u001b[0m\n\u001b[1;32m    823\u001b[0m err \u001b[38;5;241m=\u001b[39m \u001b[38;5;28;01mNone\u001b[39;00m\n\u001b[0;32m--> 824\u001b[0m \u001b[38;5;28;01mfor\u001b[39;00m res \u001b[38;5;129;01min\u001b[39;00m \u001b[43mgetaddrinfo\u001b[49m\u001b[43m(\u001b[49m\u001b[43mhost\u001b[49m\u001b[43m,\u001b[49m\u001b[43m \u001b[49m\u001b[43mport\u001b[49m\u001b[43m,\u001b[49m\u001b[43m \u001b[49m\u001b[38;5;241;43m0\u001b[39;49m\u001b[43m,\u001b[49m\u001b[43m \u001b[49m\u001b[43mSOCK_STREAM\u001b[49m\u001b[43m)\u001b[49m:\n\u001b[1;32m    825\u001b[0m     af, socktype, proto, canonname, sa \u001b[38;5;241m=\u001b[39m res\n",
      "File \u001b[0;32m~/.pyenv/versions/3.10.1/lib/python3.10/socket.py:955\u001b[0m, in \u001b[0;36mgetaddrinfo\u001b[0;34m(host, port, family, type, proto, flags)\u001b[0m\n\u001b[1;32m    954\u001b[0m addrlist \u001b[38;5;241m=\u001b[39m []\n\u001b[0;32m--> 955\u001b[0m \u001b[38;5;28;01mfor\u001b[39;00m res \u001b[38;5;129;01min\u001b[39;00m \u001b[43m_socket\u001b[49m\u001b[38;5;241;43m.\u001b[39;49m\u001b[43mgetaddrinfo\u001b[49m\u001b[43m(\u001b[49m\u001b[43mhost\u001b[49m\u001b[43m,\u001b[49m\u001b[43m \u001b[49m\u001b[43mport\u001b[49m\u001b[43m,\u001b[49m\u001b[43m \u001b[49m\u001b[43mfamily\u001b[49m\u001b[43m,\u001b[49m\u001b[43m \u001b[49m\u001b[38;5;28;43mtype\u001b[39;49m\u001b[43m,\u001b[49m\u001b[43m \u001b[49m\u001b[43mproto\u001b[49m\u001b[43m,\u001b[49m\u001b[43m \u001b[49m\u001b[43mflags\u001b[49m\u001b[43m)\u001b[49m:\n\u001b[1;32m    956\u001b[0m     af, socktype, proto, canonname, sa \u001b[38;5;241m=\u001b[39m res\n",
      "\u001b[0;31mgaierror\u001b[0m: [Errno 8] nodename nor servname provided, or not known",
      "\nDuring handling of the above exception, another exception occurred:\n",
      "\u001b[0;31mURLError\u001b[0m                                  Traceback (most recent call last)",
      "File \u001b[0;32m~/courses/json-with-python/env/lib/python3.10/site-packages/referencing/_core.py:417\u001b[0m, in \u001b[0;36mRegistry.get_or_retrieve\u001b[0;34m(self, uri)\u001b[0m\n\u001b[1;32m    416\u001b[0m \u001b[38;5;28;01mtry\u001b[39;00m:\n\u001b[0;32m--> 417\u001b[0m     resource \u001b[38;5;241m=\u001b[39m \u001b[43mregistry\u001b[49m\u001b[38;5;241;43m.\u001b[39;49m\u001b[43m_retrieve\u001b[49m\u001b[43m(\u001b[49m\u001b[43muri\u001b[49m\u001b[43m)\u001b[49m\n\u001b[1;32m    418\u001b[0m \u001b[38;5;28;01mexcept\u001b[39;00m (\n\u001b[1;32m    419\u001b[0m     exceptions\u001b[38;5;241m.\u001b[39mCannotDetermineSpecification,\n\u001b[1;32m    420\u001b[0m     exceptions\u001b[38;5;241m.\u001b[39mNoSuchResource,\n\u001b[1;32m    421\u001b[0m ):\n",
      "File \u001b[0;32m~/courses/json-with-python/env/lib/python3.10/site-packages/jsonschema/validators.py:112\u001b[0m, in \u001b[0;36m_warn_for_remote_retrieve\u001b[0;34m(uri)\u001b[0m\n\u001b[1;32m    111\u001b[0m request \u001b[38;5;241m=\u001b[39m Request(uri, headers\u001b[38;5;241m=\u001b[39mheaders)  \u001b[38;5;66;03m# noqa: S310\u001b[39;00m\n\u001b[0;32m--> 112\u001b[0m \u001b[38;5;28;01mwith\u001b[39;00m \u001b[43murlopen\u001b[49m\u001b[43m(\u001b[49m\u001b[43mrequest\u001b[49m\u001b[43m)\u001b[49m \u001b[38;5;28;01mas\u001b[39;00m response:  \u001b[38;5;66;03m# noqa: S310\u001b[39;00m\n\u001b[1;32m    113\u001b[0m     warnings\u001b[38;5;241m.\u001b[39mwarn(\n\u001b[1;32m    114\u001b[0m         \u001b[38;5;124m\"\u001b[39m\u001b[38;5;124mAutomatically retrieving remote references can be a security \u001b[39m\u001b[38;5;124m\"\u001b[39m\n\u001b[1;32m    115\u001b[0m         \u001b[38;5;124m\"\u001b[39m\u001b[38;5;124mvulnerability and is discouraged by the JSON Schema \u001b[39m\u001b[38;5;124m\"\u001b[39m\n\u001b[0;32m   (...)\u001b[0m\n\u001b[1;32m    123\u001b[0m         stacklevel\u001b[38;5;241m=\u001b[39m\u001b[38;5;241m9\u001b[39m,  \u001b[38;5;66;03m# Ha ha ha ha magic numbers :/\u001b[39;00m\n\u001b[1;32m    124\u001b[0m     )\n",
      "File \u001b[0;32m~/.pyenv/versions/3.10.1/lib/python3.10/urllib/request.py:216\u001b[0m, in \u001b[0;36murlopen\u001b[0;34m(url, data, timeout, cafile, capath, cadefault, context)\u001b[0m\n\u001b[1;32m    215\u001b[0m     opener \u001b[38;5;241m=\u001b[39m _opener\n\u001b[0;32m--> 216\u001b[0m \u001b[38;5;28;01mreturn\u001b[39;00m \u001b[43mopener\u001b[49m\u001b[38;5;241;43m.\u001b[39;49m\u001b[43mopen\u001b[49m\u001b[43m(\u001b[49m\u001b[43murl\u001b[49m\u001b[43m,\u001b[49m\u001b[43m \u001b[49m\u001b[43mdata\u001b[49m\u001b[43m,\u001b[49m\u001b[43m \u001b[49m\u001b[43mtimeout\u001b[49m\u001b[43m)\u001b[49m\n",
      "File \u001b[0;32m~/.pyenv/versions/3.10.1/lib/python3.10/urllib/request.py:519\u001b[0m, in \u001b[0;36mOpenerDirector.open\u001b[0;34m(self, fullurl, data, timeout)\u001b[0m\n\u001b[1;32m    518\u001b[0m sys\u001b[38;5;241m.\u001b[39maudit(\u001b[38;5;124m'\u001b[39m\u001b[38;5;124murllib.Request\u001b[39m\u001b[38;5;124m'\u001b[39m, req\u001b[38;5;241m.\u001b[39mfull_url, req\u001b[38;5;241m.\u001b[39mdata, req\u001b[38;5;241m.\u001b[39mheaders, req\u001b[38;5;241m.\u001b[39mget_method())\n\u001b[0;32m--> 519\u001b[0m response \u001b[38;5;241m=\u001b[39m \u001b[38;5;28;43mself\u001b[39;49m\u001b[38;5;241;43m.\u001b[39;49m\u001b[43m_open\u001b[49m\u001b[43m(\u001b[49m\u001b[43mreq\u001b[49m\u001b[43m,\u001b[49m\u001b[43m \u001b[49m\u001b[43mdata\u001b[49m\u001b[43m)\u001b[49m\n\u001b[1;32m    521\u001b[0m \u001b[38;5;66;03m# post-process response\u001b[39;00m\n",
      "File \u001b[0;32m~/.pyenv/versions/3.10.1/lib/python3.10/urllib/request.py:536\u001b[0m, in \u001b[0;36mOpenerDirector._open\u001b[0;34m(self, req, data)\u001b[0m\n\u001b[1;32m    535\u001b[0m protocol \u001b[38;5;241m=\u001b[39m req\u001b[38;5;241m.\u001b[39mtype\n\u001b[0;32m--> 536\u001b[0m result \u001b[38;5;241m=\u001b[39m \u001b[38;5;28;43mself\u001b[39;49m\u001b[38;5;241;43m.\u001b[39;49m\u001b[43m_call_chain\u001b[49m\u001b[43m(\u001b[49m\u001b[38;5;28;43mself\u001b[39;49m\u001b[38;5;241;43m.\u001b[39;49m\u001b[43mhandle_open\u001b[49m\u001b[43m,\u001b[49m\u001b[43m \u001b[49m\u001b[43mprotocol\u001b[49m\u001b[43m,\u001b[49m\u001b[43m \u001b[49m\u001b[43mprotocol\u001b[49m\u001b[43m \u001b[49m\u001b[38;5;241;43m+\u001b[39;49m\n\u001b[1;32m    537\u001b[0m \u001b[43m                          \u001b[49m\u001b[38;5;124;43m'\u001b[39;49m\u001b[38;5;124;43m_open\u001b[39;49m\u001b[38;5;124;43m'\u001b[39;49m\u001b[43m,\u001b[49m\u001b[43m \u001b[49m\u001b[43mreq\u001b[49m\u001b[43m)\u001b[49m\n\u001b[1;32m    538\u001b[0m \u001b[38;5;28;01mif\u001b[39;00m result:\n",
      "File \u001b[0;32m~/.pyenv/versions/3.10.1/lib/python3.10/urllib/request.py:496\u001b[0m, in \u001b[0;36mOpenerDirector._call_chain\u001b[0;34m(self, chain, kind, meth_name, *args)\u001b[0m\n\u001b[1;32m    495\u001b[0m func \u001b[38;5;241m=\u001b[39m \u001b[38;5;28mgetattr\u001b[39m(handler, meth_name)\n\u001b[0;32m--> 496\u001b[0m result \u001b[38;5;241m=\u001b[39m \u001b[43mfunc\u001b[49m\u001b[43m(\u001b[49m\u001b[38;5;241;43m*\u001b[39;49m\u001b[43margs\u001b[49m\u001b[43m)\u001b[49m\n\u001b[1;32m    497\u001b[0m \u001b[38;5;28;01mif\u001b[39;00m result \u001b[38;5;129;01mis\u001b[39;00m \u001b[38;5;129;01mnot\u001b[39;00m \u001b[38;5;28;01mNone\u001b[39;00m:\n",
      "File \u001b[0;32m~/.pyenv/versions/3.10.1/lib/python3.10/urllib/request.py:1391\u001b[0m, in \u001b[0;36mHTTPSHandler.https_open\u001b[0;34m(self, req)\u001b[0m\n\u001b[1;32m   1390\u001b[0m \u001b[38;5;28;01mdef\u001b[39;00m \u001b[38;5;21mhttps_open\u001b[39m(\u001b[38;5;28mself\u001b[39m, req):\n\u001b[0;32m-> 1391\u001b[0m     \u001b[38;5;28;01mreturn\u001b[39;00m \u001b[38;5;28;43mself\u001b[39;49m\u001b[38;5;241;43m.\u001b[39;49m\u001b[43mdo_open\u001b[49m\u001b[43m(\u001b[49m\u001b[43mhttp\u001b[49m\u001b[38;5;241;43m.\u001b[39;49m\u001b[43mclient\u001b[49m\u001b[38;5;241;43m.\u001b[39;49m\u001b[43mHTTPSConnection\u001b[49m\u001b[43m,\u001b[49m\u001b[43m \u001b[49m\u001b[43mreq\u001b[49m\u001b[43m,\u001b[49m\n\u001b[1;32m   1392\u001b[0m \u001b[43m        \u001b[49m\u001b[43mcontext\u001b[49m\u001b[38;5;241;43m=\u001b[39;49m\u001b[38;5;28;43mself\u001b[39;49m\u001b[38;5;241;43m.\u001b[39;49m\u001b[43m_context\u001b[49m\u001b[43m,\u001b[49m\u001b[43m \u001b[49m\u001b[43mcheck_hostname\u001b[49m\u001b[38;5;241;43m=\u001b[39;49m\u001b[38;5;28;43mself\u001b[39;49m\u001b[38;5;241;43m.\u001b[39;49m\u001b[43m_check_hostname\u001b[49m\u001b[43m)\u001b[49m\n",
      "File \u001b[0;32m~/.pyenv/versions/3.10.1/lib/python3.10/urllib/request.py:1351\u001b[0m, in \u001b[0;36mAbstractHTTPHandler.do_open\u001b[0;34m(self, http_class, req, **http_conn_args)\u001b[0m\n\u001b[1;32m   1350\u001b[0m \u001b[38;5;28;01mexcept\u001b[39;00m \u001b[38;5;167;01mOSError\u001b[39;00m \u001b[38;5;28;01mas\u001b[39;00m err: \u001b[38;5;66;03m# timeout error\u001b[39;00m\n\u001b[0;32m-> 1351\u001b[0m     \u001b[38;5;28;01mraise\u001b[39;00m URLError(err)\n\u001b[1;32m   1352\u001b[0m r \u001b[38;5;241m=\u001b[39m h\u001b[38;5;241m.\u001b[39mgetresponse()\n",
      "\u001b[0;31mURLError\u001b[0m: <urlopen error [Errno 8] nodename nor servname provided, or not known>",
      "\nThe above exception was the direct cause of the following exception:\n",
      "\u001b[0;31mUnretrievable\u001b[0m                             Traceback (most recent call last)",
      "File \u001b[0;32m~/courses/json-with-python/env/lib/python3.10/site-packages/referencing/_core.py:667\u001b[0m, in \u001b[0;36mResolver.lookup\u001b[0;34m(self, ref)\u001b[0m\n\u001b[1;32m    666\u001b[0m \u001b[38;5;28;01mtry\u001b[39;00m:\n\u001b[0;32m--> 667\u001b[0m     retrieved \u001b[38;5;241m=\u001b[39m \u001b[38;5;28;43mself\u001b[39;49m\u001b[38;5;241;43m.\u001b[39;49m\u001b[43m_registry\u001b[49m\u001b[38;5;241;43m.\u001b[39;49m\u001b[43mget_or_retrieve\u001b[49m\u001b[43m(\u001b[49m\u001b[43muri\u001b[49m\u001b[43m)\u001b[49m\n\u001b[1;32m    668\u001b[0m \u001b[38;5;28;01mexcept\u001b[39;00m exceptions\u001b[38;5;241m.\u001b[39mNoSuchResource:\n",
      "File \u001b[0;32m~/courses/json-with-python/env/lib/python3.10/site-packages/referencing/_core.py:424\u001b[0m, in \u001b[0;36mRegistry.get_or_retrieve\u001b[0;34m(self, uri)\u001b[0m\n\u001b[1;32m    423\u001b[0m \u001b[38;5;28;01mexcept\u001b[39;00m \u001b[38;5;167;01mException\u001b[39;00m \u001b[38;5;28;01mas\u001b[39;00m error:  \u001b[38;5;66;03m# noqa: BLE001\u001b[39;00m\n\u001b[0;32m--> 424\u001b[0m     \u001b[38;5;28;01mraise\u001b[39;00m exceptions\u001b[38;5;241m.\u001b[39mUnretrievable(ref\u001b[38;5;241m=\u001b[39muri) \u001b[38;5;28;01mfrom\u001b[39;00m \u001b[38;5;21;01merror\u001b[39;00m\n\u001b[1;32m    425\u001b[0m \u001b[38;5;28;01melse\u001b[39;00m:\n",
      "\u001b[0;31mUnretrievable\u001b[0m: 'https://somedomain.xyz/schemas/person.json'",
      "\nThe above exception was the direct cause of the following exception:\n",
      "\u001b[0;31mUnresolvable\u001b[0m                              Traceback (most recent call last)",
      "File \u001b[0;32m~/courses/json-with-python/env/lib/python3.10/site-packages/jsonschema/validators.py:450\u001b[0m, in \u001b[0;36mcreate.<locals>.Validator._validate_reference\u001b[0;34m(self, ref, instance)\u001b[0m\n\u001b[1;32m    449\u001b[0m \u001b[38;5;28;01mtry\u001b[39;00m:\n\u001b[0;32m--> 450\u001b[0m     resolved \u001b[38;5;241m=\u001b[39m \u001b[38;5;28;43mself\u001b[39;49m\u001b[38;5;241;43m.\u001b[39;49m\u001b[43m_resolver\u001b[49m\u001b[38;5;241;43m.\u001b[39;49m\u001b[43mlookup\u001b[49m\u001b[43m(\u001b[49m\u001b[43mref\u001b[49m\u001b[43m)\u001b[49m\n\u001b[1;32m    451\u001b[0m \u001b[38;5;28;01mexcept\u001b[39;00m referencing\u001b[38;5;241m.\u001b[39mexceptions\u001b[38;5;241m.\u001b[39mUnresolvable \u001b[38;5;28;01mas\u001b[39;00m err:\n",
      "File \u001b[0;32m~/courses/json-with-python/env/lib/python3.10/site-packages/referencing/_core.py:671\u001b[0m, in \u001b[0;36mResolver.lookup\u001b[0;34m(self, ref)\u001b[0m\n\u001b[1;32m    670\u001b[0m \u001b[38;5;28;01mexcept\u001b[39;00m exceptions\u001b[38;5;241m.\u001b[39mUnretrievable \u001b[38;5;28;01mas\u001b[39;00m error:\n\u001b[0;32m--> 671\u001b[0m     \u001b[38;5;28;01mraise\u001b[39;00m exceptions\u001b[38;5;241m.\u001b[39mUnresolvable(ref\u001b[38;5;241m=\u001b[39mref) \u001b[38;5;28;01mfrom\u001b[39;00m \u001b[38;5;21;01merror\u001b[39;00m\n\u001b[1;32m    673\u001b[0m \u001b[38;5;28;01mif\u001b[39;00m fragment\u001b[38;5;241m.\u001b[39mstartswith(\u001b[38;5;124m\"\u001b[39m\u001b[38;5;124m/\u001b[39m\u001b[38;5;124m\"\u001b[39m):\n",
      "\u001b[0;31mUnresolvable\u001b[0m: https://somedomain.xyz/schemas/person.json",
      "\nThe above exception was the direct cause of the following exception:\n",
      "\u001b[0;31m_WrappedReferencingError\u001b[0m                  Traceback (most recent call last)",
      "Cell \u001b[0;32mIn[35], line 2\u001b[0m\n\u001b[1;32m      1\u001b[0m \u001b[38;5;28;01mtry\u001b[39;00m:\n\u001b[0;32m----> 2\u001b[0m     \u001b[43mvalidate\u001b[49m\u001b[43m(\u001b[49m\u001b[43mdocument\u001b[49m\u001b[43m,\u001b[49m\u001b[43m \u001b[49m\u001b[43mmain_schema\u001b[49m\u001b[43m)\u001b[49m\n\u001b[1;32m      3\u001b[0m     \u001b[38;5;28mprint\u001b[39m(\u001b[38;5;124m\"\u001b[39m\u001b[38;5;124mThe document is valid against the schema\u001b[39m\u001b[38;5;124m\"\u001b[39m)\n\u001b[1;32m      4\u001b[0m \u001b[38;5;28;01mexcept\u001b[39;00m ValidationError \u001b[38;5;28;01mas\u001b[39;00m e:\n",
      "File \u001b[0;32m~/courses/json-with-python/env/lib/python3.10/site-packages/jsonschema/validators.py:1310\u001b[0m, in \u001b[0;36mvalidate\u001b[0;34m(instance, schema, cls, *args, **kwargs)\u001b[0m\n\u001b[1;32m   1308\u001b[0m \u001b[38;5;28mcls\u001b[39m\u001b[38;5;241m.\u001b[39mcheck_schema(schema)\n\u001b[1;32m   1309\u001b[0m validator \u001b[38;5;241m=\u001b[39m \u001b[38;5;28mcls\u001b[39m(schema, \u001b[38;5;241m*\u001b[39margs, \u001b[38;5;241m*\u001b[39m\u001b[38;5;241m*\u001b[39mkwargs)\n\u001b[0;32m-> 1310\u001b[0m error \u001b[38;5;241m=\u001b[39m \u001b[43mexceptions\u001b[49m\u001b[38;5;241;43m.\u001b[39;49m\u001b[43mbest_match\u001b[49m\u001b[43m(\u001b[49m\u001b[43mvalidator\u001b[49m\u001b[38;5;241;43m.\u001b[39;49m\u001b[43miter_errors\u001b[49m\u001b[43m(\u001b[49m\u001b[43minstance\u001b[49m\u001b[43m)\u001b[49m\u001b[43m)\u001b[49m\n\u001b[1;32m   1311\u001b[0m \u001b[38;5;28;01mif\u001b[39;00m error \u001b[38;5;129;01mis\u001b[39;00m \u001b[38;5;129;01mnot\u001b[39;00m \u001b[38;5;28;01mNone\u001b[39;00m:\n\u001b[1;32m   1312\u001b[0m     \u001b[38;5;28;01mraise\u001b[39;00m error\n",
      "File \u001b[0;32m~/courses/json-with-python/env/lib/python3.10/site-packages/jsonschema/exceptions.py:458\u001b[0m, in \u001b[0;36mbest_match\u001b[0;34m(errors, key)\u001b[0m\n\u001b[1;32m    420\u001b[0m \u001b[38;5;250m\u001b[39m\u001b[38;5;124;03m\"\"\"\u001b[39;00m\n\u001b[1;32m    421\u001b[0m \u001b[38;5;124;03mTry to find an error that appears to be the best match among given errors.\u001b[39;00m\n\u001b[1;32m    422\u001b[0m \n\u001b[0;32m   (...)\u001b[0m\n\u001b[1;32m    455\u001b[0m \u001b[38;5;124;03m    set of inputs from version to version if better heuristics are added.\u001b[39;00m\n\u001b[1;32m    456\u001b[0m \u001b[38;5;124;03m\"\"\"\u001b[39;00m\n\u001b[1;32m    457\u001b[0m errors \u001b[38;5;241m=\u001b[39m \u001b[38;5;28miter\u001b[39m(errors)\n\u001b[0;32m--> 458\u001b[0m best \u001b[38;5;241m=\u001b[39m \u001b[38;5;28;43mnext\u001b[39;49m\u001b[43m(\u001b[49m\u001b[43merrors\u001b[49m\u001b[43m,\u001b[49m\u001b[43m \u001b[49m\u001b[38;5;28;43;01mNone\u001b[39;49;00m\u001b[43m)\u001b[49m\n\u001b[1;32m    459\u001b[0m \u001b[38;5;28;01mif\u001b[39;00m best \u001b[38;5;129;01mis\u001b[39;00m \u001b[38;5;28;01mNone\u001b[39;00m:\n\u001b[1;32m    460\u001b[0m     \u001b[38;5;28;01mreturn\u001b[39;00m\n",
      "File \u001b[0;32m~/courses/json-with-python/env/lib/python3.10/site-packages/jsonschema/validators.py:371\u001b[0m, in \u001b[0;36mcreate.<locals>.Validator.iter_errors\u001b[0;34m(self, instance, _schema)\u001b[0m\n\u001b[1;32m    368\u001b[0m     \u001b[38;5;28;01mcontinue\u001b[39;00m\n\u001b[1;32m    370\u001b[0m errors \u001b[38;5;241m=\u001b[39m validator(\u001b[38;5;28mself\u001b[39m, v, instance, _schema) \u001b[38;5;129;01mor\u001b[39;00m ()\n\u001b[0;32m--> 371\u001b[0m \u001b[38;5;28;01mfor\u001b[39;00m error \u001b[38;5;129;01min\u001b[39;00m errors:\n\u001b[1;32m    372\u001b[0m     \u001b[38;5;66;03m# set details if not already set by the called fn\u001b[39;00m\n\u001b[1;32m    373\u001b[0m     error\u001b[38;5;241m.\u001b[39m_set(\n\u001b[1;32m    374\u001b[0m         validator\u001b[38;5;241m=\u001b[39mk,\n\u001b[1;32m    375\u001b[0m         validator_value\u001b[38;5;241m=\u001b[39mv,\n\u001b[0;32m   (...)\u001b[0m\n\u001b[1;32m    378\u001b[0m         type_checker\u001b[38;5;241m=\u001b[39m\u001b[38;5;28mself\u001b[39m\u001b[38;5;241m.\u001b[39mTYPE_CHECKER,\n\u001b[1;32m    379\u001b[0m     )\n\u001b[1;32m    380\u001b[0m     \u001b[38;5;28;01mif\u001b[39;00m k \u001b[38;5;129;01mnot\u001b[39;00m \u001b[38;5;129;01min\u001b[39;00m {\u001b[38;5;124m\"\u001b[39m\u001b[38;5;124mif\u001b[39m\u001b[38;5;124m\"\u001b[39m, \u001b[38;5;124m\"\u001b[39m\u001b[38;5;124m$ref\u001b[39m\u001b[38;5;124m\"\u001b[39m}:\n",
      "File \u001b[0;32m~/courses/json-with-python/env/lib/python3.10/site-packages/jsonschema/_keywords.py:296\u001b[0m, in \u001b[0;36mproperties\u001b[0;34m(validator, properties, instance, schema)\u001b[0m\n\u001b[1;32m    294\u001b[0m \u001b[38;5;28;01mfor\u001b[39;00m \u001b[38;5;28mproperty\u001b[39m, subschema \u001b[38;5;129;01min\u001b[39;00m properties\u001b[38;5;241m.\u001b[39mitems():\n\u001b[1;32m    295\u001b[0m     \u001b[38;5;28;01mif\u001b[39;00m \u001b[38;5;28mproperty\u001b[39m \u001b[38;5;129;01min\u001b[39;00m instance:\n\u001b[0;32m--> 296\u001b[0m         \u001b[38;5;28;01myield from\u001b[39;00m validator\u001b[38;5;241m.\u001b[39mdescend(\n\u001b[1;32m    297\u001b[0m             instance[\u001b[38;5;28mproperty\u001b[39m],\n\u001b[1;32m    298\u001b[0m             subschema,\n\u001b[1;32m    299\u001b[0m             path\u001b[38;5;241m=\u001b[39m\u001b[38;5;28mproperty\u001b[39m,\n\u001b[1;32m    300\u001b[0m             schema_path\u001b[38;5;241m=\u001b[39m\u001b[38;5;28mproperty\u001b[39m,\n\u001b[1;32m    301\u001b[0m         )\n",
      "File \u001b[0;32m~/courses/json-with-python/env/lib/python3.10/site-packages/jsonschema/validators.py:419\u001b[0m, in \u001b[0;36mcreate.<locals>.Validator.descend\u001b[0;34m(self, instance, schema, path, schema_path, resolver)\u001b[0m\n\u001b[1;32m    416\u001b[0m     \u001b[38;5;28;01mcontinue\u001b[39;00m\n\u001b[1;32m    418\u001b[0m errors \u001b[38;5;241m=\u001b[39m validator(evolved, v, instance, schema) \u001b[38;5;129;01mor\u001b[39;00m ()\n\u001b[0;32m--> 419\u001b[0m \u001b[38;5;28;01mfor\u001b[39;00m error \u001b[38;5;129;01min\u001b[39;00m errors:\n\u001b[1;32m    420\u001b[0m     \u001b[38;5;66;03m# set details if not already set by the called fn\u001b[39;00m\n\u001b[1;32m    421\u001b[0m     error\u001b[38;5;241m.\u001b[39m_set(\n\u001b[1;32m    422\u001b[0m         validator\u001b[38;5;241m=\u001b[39mk,\n\u001b[1;32m    423\u001b[0m         validator_value\u001b[38;5;241m=\u001b[39mv,\n\u001b[0;32m   (...)\u001b[0m\n\u001b[1;32m    426\u001b[0m         type_checker\u001b[38;5;241m=\u001b[39mevolved\u001b[38;5;241m.\u001b[39mTYPE_CHECKER,\n\u001b[1;32m    427\u001b[0m     )\n\u001b[1;32m    428\u001b[0m     \u001b[38;5;28;01mif\u001b[39;00m k \u001b[38;5;129;01mnot\u001b[39;00m \u001b[38;5;129;01min\u001b[39;00m {\u001b[38;5;124m\"\u001b[39m\u001b[38;5;124mif\u001b[39m\u001b[38;5;124m\"\u001b[39m, \u001b[38;5;124m\"\u001b[39m\u001b[38;5;124m$ref\u001b[39m\u001b[38;5;124m\"\u001b[39m}:\n",
      "File \u001b[0;32m~/courses/json-with-python/env/lib/python3.10/site-packages/jsonschema/_keywords.py:275\u001b[0m, in \u001b[0;36mref\u001b[0;34m(validator, ref, instance, schema)\u001b[0m\n\u001b[1;32m    274\u001b[0m \u001b[38;5;28;01mdef\u001b[39;00m \u001b[38;5;21mref\u001b[39m(validator, ref, instance, schema):\n\u001b[0;32m--> 275\u001b[0m     \u001b[38;5;28;01myield from\u001b[39;00m \u001b[43mvalidator\u001b[49m\u001b[38;5;241;43m.\u001b[39;49m\u001b[43m_validate_reference\u001b[49m\u001b[43m(\u001b[49m\u001b[43mref\u001b[49m\u001b[38;5;241;43m=\u001b[39;49m\u001b[43mref\u001b[49m\u001b[43m,\u001b[49m\u001b[43m \u001b[49m\u001b[43minstance\u001b[49m\u001b[38;5;241;43m=\u001b[39;49m\u001b[43minstance\u001b[49m\u001b[43m)\u001b[49m\n",
      "File \u001b[0;32m~/courses/json-with-python/env/lib/python3.10/site-packages/jsonschema/validators.py:452\u001b[0m, in \u001b[0;36mcreate.<locals>.Validator._validate_reference\u001b[0;34m(self, ref, instance)\u001b[0m\n\u001b[1;32m    450\u001b[0m         resolved \u001b[38;5;241m=\u001b[39m \u001b[38;5;28mself\u001b[39m\u001b[38;5;241m.\u001b[39m_resolver\u001b[38;5;241m.\u001b[39mlookup(ref)\n\u001b[1;32m    451\u001b[0m     \u001b[38;5;28;01mexcept\u001b[39;00m referencing\u001b[38;5;241m.\u001b[39mexceptions\u001b[38;5;241m.\u001b[39mUnresolvable \u001b[38;5;28;01mas\u001b[39;00m err:\n\u001b[0;32m--> 452\u001b[0m         \u001b[38;5;28;01mraise\u001b[39;00m exceptions\u001b[38;5;241m.\u001b[39m_WrappedReferencingError(err) \u001b[38;5;28;01mfrom\u001b[39;00m \u001b[38;5;21;01merr\u001b[39;00m\n\u001b[1;32m    454\u001b[0m     \u001b[38;5;28;01mreturn\u001b[39;00m \u001b[38;5;28mself\u001b[39m\u001b[38;5;241m.\u001b[39mdescend(\n\u001b[1;32m    455\u001b[0m         instance,\n\u001b[1;32m    456\u001b[0m         resolved\u001b[38;5;241m.\u001b[39mcontents,\n\u001b[1;32m    457\u001b[0m         resolver\u001b[38;5;241m=\u001b[39mresolved\u001b[38;5;241m.\u001b[39mresolver,\n\u001b[1;32m    458\u001b[0m     )\n\u001b[1;32m    459\u001b[0m \u001b[38;5;28;01melse\u001b[39;00m:\n",
      "\u001b[0;31m_WrappedReferencingError\u001b[0m: Unresolvable: https://somedomain.xyz/schemas/person.json"
     ]
    }
   ],
   "source": [
    "try:\n",
    "    validate(document, main_schema)\n",
    "    print(\"The document is valid against the schema\")\n",
    "except ValidationError as e:\n",
    "    print(f\"The document is not valid against the schema: {e}\")"
   ]
  },
  {
   "cell_type": "code",
   "execution_count": 36,
   "metadata": {},
   "outputs": [],
   "source": [
    "from referencing import Registry, Resource"
   ]
  },
  {
   "cell_type": "code",
   "execution_count": 39,
   "metadata": {},
   "outputs": [],
   "source": [
    "registry = Registry().with_resources(\n",
    "    [\n",
    "        (\"https://somedomain.xyz/schemas/address.json\", Resource.from_contents(address_subschema)),\n",
    "        (\"https://somedomain.xyz/schemas/person.json\", Resource.from_contents(person_subschema)),\n",
    "    ]\n",
    ")"
   ]
  },
  {
   "cell_type": "code",
   "execution_count": 40,
   "metadata": {},
   "outputs": [],
   "source": [
    "from jsonschema import Draft202012Validator"
   ]
  },
  {
   "cell_type": "code",
   "execution_count": 41,
   "metadata": {},
   "outputs": [],
   "source": [
    "validator = Draft202012Validator(\n",
    "    main_schema,\n",
    "    registry=registry\n",
    ")"
   ]
  },
  {
   "cell_type": "code",
   "execution_count": 42,
   "metadata": {},
   "outputs": [
    {
     "name": "stdout",
     "output_type": "stream",
     "text": [
      "The document is not valid against the schema: 'age' is a required property\n",
      "\n",
      "Failed validating 'required' in schema['properties']['person']:\n",
      "    {'$id': 'https://somedomain.xyz/schemas/person.json',\n",
      "     '$schema': 'https://json-schema.org/draft/2020-12/schema',\n",
      "     'properties': {'address': {'$ref': 'https://somedomain.xyz/schemas/address.json'},\n",
      "                    'age': {'type': 'integer'},\n",
      "                    'name': {'type': 'string'}},\n",
      "     'required': ['name', 'age', 'address'],\n",
      "     'type': 'object'}\n",
      "\n",
      "On instance['person']:\n",
      "    {'name': 'John Doe'}\n"
     ]
    }
   ],
   "source": [
    "document = {\n",
    "    \"person\": {\n",
    "        \"name\": \"John Doe\"\n",
    "    }\n",
    "}\n",
    "\n",
    "try:\n",
    "    validator.validate(document)\n",
    "    print(\"The document is valid against the schema\")\n",
    "except ValidationError as e:\n",
    "    print(f\"The document is not valid against the schema: {e}\")"
   ]
  },
  {
   "cell_type": "code",
   "execution_count": 46,
   "metadata": {},
   "outputs": [
    {
     "name": "stdout",
     "output_type": "stream",
     "text": [
      "The document is valid against the schema\n"
     ]
    }
   ],
   "source": [
    "document = {\n",
    "    \"person\": {\n",
    "        \"name\": \"John Doe\",\n",
    "        \"age\": 30,\n",
    "        \"address\": {\n",
    "            \"street\": \"123 Main St\",\n",
    "            \"city\": \"Anytown\",\n",
    "            \"state\": \"Anystate\"\n",
    "        }\n",
    "    },\n",
    "    \"spouse\": {\n",
    "        \"name\": \"Jane Doe\",\n",
    "        \"age\": 30,\n",
    "        \"address\": {\n",
    "            \"street\": \"123 Main St\",\n",
    "            \"city\": \"Anytown\",\n",
    "            \"state\": \"Anystate\"\n",
    "        }\n",
    "    },    \n",
    "    \"isMarried\": True\n",
    "}\n",
    "\n",
    "try:\n",
    "    validator.validate(document)\n",
    "    print(\"The document is valid against the schema\")\n",
    "except ValidationError as e:\n",
    "    print(f\"The document is not valid against the schema: {e}\")"
   ]
  },
  {
   "cell_type": "markdown",
   "metadata": {},
   "source": [
    "#### Skill Challenge: Programmatic JSON Document Validation From API"
   ]
  },
  {
   "cell_type": "markdown",
   "metadata": {},
   "source": [
    "> * Inspect the following JSON document, which contains USD and CAD stock price information: https://www.andybek.com/api/data/stock-tickers\n",
    "> * Define a restrictive schema for the data that will identify records \n",
    "> * Using python, read in the JSON document and validate it against the schema\n",
    "> * Generate a report that indicates which records are invalid, e.g."
   ]
  },
  {
   "cell_type": "code",
   "execution_count": null,
   "metadata": {},
   "outputs": [],
   "source": [
    "# Invalid Records:\n",
    "# Record #2 is invalid\n",
    "# Record:\n",
    "# {\n",
    "#   \"ticker\": \"GOOGL\",\n",
    "#   \"price\": 100.2\n",
    "# }\n",
    "# Reason: 'currency' is a required property\n",
    "\n",
    "# ========================================\n",
    "\n",
    "# Record #3 is invalid\n",
    "# Record:\n",
    "# \"invalid_data\"\n",
    "# Reason: 'invalid_data' is not of type 'number'"
   ]
  },
  {
   "cell_type": "markdown",
   "metadata": {},
   "source": [
    "#### Solution"
   ]
  },
  {
   "cell_type": "code",
   "execution_count": 47,
   "metadata": {},
   "outputs": [],
   "source": [
    "URL_CONSTANT = \"https://www.andybek.com/api/data/stock-tickers\""
   ]
  },
  {
   "cell_type": "code",
   "execution_count": 53,
   "metadata": {},
   "outputs": [],
   "source": [
    "import requests\n",
    "from jsonschema import Draft202012Validator"
   ]
  },
  {
   "cell_type": "code",
   "execution_count": 49,
   "metadata": {},
   "outputs": [],
   "source": [
    "# fetch the JSON document\n",
    "response = requests.get(URL_CONSTANT)\n",
    "data = response.json()"
   ]
  },
  {
   "cell_type": "code",
   "execution_count": 51,
   "metadata": {},
   "outputs": [],
   "source": [
    "# define our schema\n",
    "schema = {\n",
    "    \"$schema\": \"http://json-schema.org/draft/2020-12/schema\",\n",
    "    \"type\": \"array\",\n",
    "    \"items\": {\n",
    "        \"type\": \"object\",\n",
    "        \"properties\": {\n",
    "            \"ticker\": {\"type\": \"string\"},\n",
    "            \"price\": {\"type\": \"number\"},\n",
    "            \"currency\": {\"type\": \"string\", \"enum\": [\"USD\", \"CAD\"]}\n",
    "        },\n",
    "        \"required\": [\"ticker\", \"price\", \"currency\"],\n",
    "        \"additionalProperties\": False\n",
    "    }\n",
    "}"
   ]
  },
  {
   "cell_type": "code",
   "execution_count": 52,
   "metadata": {},
   "outputs": [],
   "source": [
    "# validate the data against the schema"
   ]
  },
  {
   "cell_type": "code",
   "execution_count": 54,
   "metadata": {},
   "outputs": [],
   "source": [
    "validator = Draft202012Validator(schema)"
   ]
  },
  {
   "cell_type": "code",
   "execution_count": 56,
   "metadata": {},
   "outputs": [],
   "source": [
    "invalid_records = []\n",
    "\n",
    "for index, item in enumerate(data):\n",
    "    # 0, first item\n",
    "    # 1, second item\n",
    "    # ...\n",
    "    \n",
    "    # do the validation\n",
    "    \n",
    "    for error in validator.iter_errors([item]):\n",
    "        invalid_records.append({\n",
    "            \"index\": index,\n",
    "            \"record\": error.instance,\n",
    "            \"reason\": error.message\n",
    "        })"
   ]
  },
  {
   "cell_type": "code",
   "execution_count": 57,
   "metadata": {},
   "outputs": [
    {
     "data": {
      "text/plain": [
       "6"
      ]
     },
     "execution_count": 57,
     "metadata": {},
     "output_type": "execute_result"
    }
   ],
   "source": [
    "len(invalid_records)"
   ]
  },
  {
   "cell_type": "code",
   "execution_count": 60,
   "metadata": {},
   "outputs": [
    {
     "name": "stdout",
     "output_type": "stream",
     "text": [
      "Invalid Records:\n",
      "Record #2 is invalid\n",
      "Record:\n",
      "{\n",
      "  \"ticker\": \"GOOGL\",\n",
      "  \"price\": 100.2\n",
      "}\n",
      "Reason:  'currency' is a required property\n",
      "\n",
      "========================================\n",
      "\n",
      "Record #3 is invalid\n",
      "Record:\n",
      "\"invalid_data\"\n",
      "Reason:  'invalid_data' is not of type 'number'\n",
      "\n",
      "========================================\n",
      "\n",
      "Record #4 is invalid\n",
      "Record:\n",
      "{\n",
      "  \"ticker\": \"MSFT\",\n",
      "  \"currency\": \"USD\"\n",
      "}\n",
      "Reason:  'price' is a required property\n",
      "\n",
      "========================================\n",
      "\n",
      "Record #8 is invalid\n",
      "Record:\n",
      "{\n",
      "  \"ticker\": \"V\",\n",
      "  \"price\": 210.5\n",
      "}\n",
      "Reason:  'currency' is a required property\n",
      "\n",
      "========================================\n",
      "\n",
      "Record #13 is invalid\n",
      "Record:\n",
      "\"MXN\"\n",
      "Reason:  'MXN' is not one of ['USD', 'CAD']\n",
      "\n",
      "========================================\n",
      "\n",
      "Record #23 is invalid\n",
      "Record:\n",
      "{\n",
      "  \"ticker\": \"PFE\",\n",
      "  \"price\": 44.25,\n",
      "  \"currency\": \"USD\",\n",
      "  \"extra_property\": \"unexpected\"\n",
      "}\n",
      "Reason:  Additional properties are not allowed ('extra_property' was unexpected)\n",
      "\n",
      "========================================\n",
      "\n"
     ]
    }
   ],
   "source": [
    "import json\n",
    "\n",
    "print(\"Invalid Records:\")\n",
    "for record in invalid_records:\n",
    "    print(f\"Record #{record['index']+1} is invalid\")\n",
    "    print(\"Record:\")\n",
    "    print(json.dumps(record['record'], indent=2))\n",
    "    print(\"Reason: \", record['reason'])\n",
    "    print(\"\\n\" + \"=\" * 40 + \"\\n\")"
   ]
  },
  {
   "cell_type": "code",
   "execution_count": null,
   "metadata": {},
   "outputs": [],
   "source": []
  }
 ],
 "metadata": {
  "kernelspec": {
   "display_name": "env",
   "language": "python",
   "name": "python3"
  },
  "language_info": {
   "codemirror_mode": {
    "name": "ipython",
    "version": 3
   },
   "file_extension": ".py",
   "mimetype": "text/x-python",
   "name": "python",
   "nbconvert_exporter": "python",
   "pygments_lexer": "ipython3",
   "version": "3.10.1"
  }
 },
 "nbformat": 4,
 "nbformat_minor": 2
}
